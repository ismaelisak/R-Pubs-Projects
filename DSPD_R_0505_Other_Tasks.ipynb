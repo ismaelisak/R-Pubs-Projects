{
 "cells": [
  {
   "cell_type": "markdown",
   "metadata": {},
   "source": [
    "# Processing Language in Texts"
   ]
  },
  {
   "cell_type": "markdown",
   "metadata": {},
   "source": [
    "In R, the best library to deal with textual information is using the `tm` library. You can find additional information about this package at `http://tm.r-forge.r-project.org/`."
   ]
  },
  {
   "cell_type": "code",
   "execution_count": 5,
   "metadata": {},
   "outputs": [],
   "source": [
    "if (!(\"tm\" %in% rownames(installed.packages()))) {\n",
    "    install.packages(\"tm\", repos='http://cran.us.r-project.org')\n",
    "}"
   ]
  },
  {
   "cell_type": "markdown",
   "metadata": {},
   "source": [
    "## Defining understanding as tokenization"
   ]
  },
  {
   "cell_type": "code",
   "execution_count": 6,
   "metadata": {},
   "outputs": [
    {
     "name": "stderr",
     "output_type": "stream",
     "text": [
      "Loading required package: NLP\n",
      "\n"
     ]
    }
   ],
   "source": [
    "library(tm)\n",
    "texts = c(\"My dog gets along with cats\", \n",
    "         \"That cat is vicious\",\n",
    "         \"My dog is happy when it is lunch\")"
   ]
  },
  {
   "cell_type": "markdown",
   "metadata": {},
   "source": [
    "## Putting all the documents into a bag"
   ]
  },
  {
   "cell_type": "markdown",
   "metadata": {},
   "source": [
    "### Obtaining the vocabulary size"
   ]
  },
  {
   "cell_type": "code",
   "execution_count": 7,
   "metadata": {},
   "outputs": [
    {
     "name": "stdout",
     "output_type": "stream",
     "text": [
      "[1] \"There are 14 unique words\"\n"
     ]
    }
   ],
   "source": [
    "strsplit_space_tokenizer <- function(x)\n",
    "    unlist(strsplit(as.character(x), \"[[:space:]]+\"))\n",
    "\n",
    "unique_words <- unique(strsplit_space_tokenizer(texts))\n",
    "print(paste(\"There are\", length(unique_words), \"unique words\"))"
   ]
  },
  {
   "cell_type": "markdown",
   "metadata": {},
   "source": [
    "### Processing the text"
   ]
  },
  {
   "cell_type": "code",
   "execution_count": 8,
   "metadata": {},
   "outputs": [
    {
     "name": "stdout",
     "output_type": "stream",
     "text": [
      "[1] \"My\"    \"dog\"   \"gets\"  \"along\" \"with\"  \"cats\" \n",
      "[1] \"That\"    \"cat\"     \"is\"      \"vicious\"\n",
      "[1] \"My\"    \"dog\"   \"is\"    \"happy\" \"when\"  \"it\"    \"is\"    \"lunch\"\n"
     ]
    }
   ],
   "source": [
    "for (text in texts) {\n",
    "    print(strsplit_space_tokenizer(text))\n",
    "}"
   ]
  },
  {
   "cell_type": "code",
   "execution_count": 9,
   "metadata": {},
   "outputs": [],
   "source": [
    "corpus <- VCorpus(VectorSource(texts)) \n",
    "dtm <- DocumentTermMatrix(corpus)"
   ]
  },
  {
   "cell_type": "code",
   "execution_count": 10,
   "metadata": {},
   "outputs": [
    {
     "name": "stdout",
     "output_type": "stream",
     "text": [
      "<<DocumentTermMatrix (documents: 3, terms: 11)>>\n",
      "Non-/sparse entries: 12/21\n",
      "Sparsity           : 64%\n",
      "Maximal term length: 7\n",
      "Weighting          : term frequency (tf)\n",
      "Sample             :\n",
      "    Terms\n",
      "Docs along cat cats dog gets happy lunch that vicious when\n",
      "   1     1   0    1   1    1     0     0    0       0    0\n",
      "   2     0   1    0   0    0     0     0    1       1    0\n",
      "   3     0   0    0   1    0     1     1    0       0    1\n"
     ]
    }
   ],
   "source": [
    "inspect(dtm)"
   ]
  },
  {
   "cell_type": "markdown",
   "metadata": {},
   "source": [
    "### Using the TF-IDF transformation instead"
   ]
  },
  {
   "cell_type": "code",
   "execution_count": 11,
   "metadata": {},
   "outputs": [],
   "source": [
    "dtm <- DocumentTermMatrix(corpus,\n",
    "           control = list(weighting = function(x) weightTfIdf(x, normalize=TRUE)))"
   ]
  },
  {
   "cell_type": "code",
   "execution_count": 12,
   "metadata": {},
   "outputs": [
    {
     "name": "stdout",
     "output_type": "stream",
     "text": [
      "<<DocumentTermMatrix (documents: 3, terms: 11)>>\n",
      "Non-/sparse entries: 12/21\n",
      "Sparsity           : 64%\n",
      "Maximal term length: 7\n",
      "Weighting          : term frequency - inverse document frequency (normalized) (tf-idf)\n",
      "Sample             :\n",
      "    Terms\n",
      "Docs     along       cat      cats      gets     happy     lunch      that\n",
      "   1 0.3169925 0.0000000 0.3169925 0.3169925 0.0000000 0.0000000 0.0000000\n",
      "   2 0.0000000 0.5283208 0.0000000 0.0000000 0.0000000 0.0000000 0.5283208\n",
      "   3 0.0000000 0.0000000 0.0000000 0.0000000 0.3962406 0.3962406 0.0000000\n",
      "    Terms\n",
      "Docs   vicious      when      with\n",
      "   1 0.0000000 0.0000000 0.3169925\n",
      "   2 0.5283208 0.0000000 0.0000000\n",
      "   3 0.0000000 0.3962406 0.0000000\n"
     ]
    }
   ],
   "source": [
    "inspect(dtm)"
   ]
  },
  {
   "cell_type": "markdown",
   "metadata": {},
   "source": [
    "### Retaining order using RNNs"
   ]
  },
  {
   "cell_type": "markdown",
   "metadata": {},
   "source": [
    "The `text_tokenizer` (see `https://keras.rstudio.com/reference/text_tokenizer.html`) is a function that will turn your text into a sequence of indexes that a neural network can read (with a few more processing steps). You must have RTools (`https://cran.r-project.org/bin/windows/Rtools/`) to perform these next steps. In addition, the process can take a while to run, so you need to be patient."
   ]
  },
  {
   "cell_type": "code",
   "execution_count": 13,
   "metadata": {},
   "outputs": [],
   "source": [
    "if (!(\"keras\" %in% rownames(installed.packages()))) {\n",
    "    install.packages(\"devtools\", repos='http://cran.us.r-project.org')\n",
    "    devtools::install_github(\"rstudio/keras\")\n",
    "    reticulate::py_config()\n",
    "}\n",
    "\n",
    "library(keras)"
   ]
  },
  {
   "cell_type": "code",
   "execution_count": 14,
   "metadata": {},
   "outputs": [
    {
     "name": "stdout",
     "output_type": "stream",
     "text": [
      "[[1]]\n",
      "[1] 2 3 4 5 6 7\n",
      "\n",
      "[[2]]\n",
      "[1]  8  9  1 10\n",
      "\n",
      "[[3]]\n",
      "[1]  2  3  1 11 12 13  1\n",
      "\n"
     ]
    }
   ],
   "source": [
    "tokenizer <- text_tokenizer(num_words=length(unique_words))\n",
    "fit_text_tokenizer(tokenizer, texts)\n",
    "sequences <- texts_to_sequences(tokenizer, texts)\n",
    "\n",
    "print(sequences)"
   ]
  },
  {
   "cell_type": "markdown",
   "metadata": {},
   "source": [
    "In particular, another Keras function, `to_categorical` (`https://keras.rstudio.com/reference/to_categorical.html`) converts the sequences by one hot encoding, creating a set of indicators for each one."
   ]
  },
  {
   "cell_type": "code",
   "execution_count": 15,
   "metadata": {},
   "outputs": [
    {
     "name": "stdout",
     "output_type": "stream",
     "text": [
      "     [,1] [,2] [,3] [,4] [,5] [,6] [,7] [,8]\n",
      "[1,]    0    0    1    0    0    0    0    0\n",
      "[2,]    0    0    0    1    0    0    0    0\n",
      "[3,]    0    0    0    0    1    0    0    0\n",
      "[4,]    0    0    0    0    0    1    0    0\n",
      "[5,]    0    0    0    0    0    0    1    0\n",
      "[6,]    0    0    0    0    0    0    0    1\n"
     ]
    }
   ],
   "source": [
    "print(to_categorical(unlist(sequences[1])))"
   ]
  },
  {
   "cell_type": "markdown",
   "metadata": {},
   "source": [
    "## Using AI for Sentiment Analysis"
   ]
  },
  {
   "cell_type": "markdown",
   "metadata": {},
   "source": [
    "### Getting the IMDb data"
   ]
  },
  {
   "cell_type": "code",
   "execution_count": 16,
   "metadata": {},
   "outputs": [],
   "source": [
    "if (!(\"keras\" %in% rownames(installed.packages()))) {\n",
    "    install.packages(\"devtools\")\n",
    "    devtools::install_github(\"rstudio/keras\", repos='http://cran.us.r-project.org')\n",
    "    reticulate::py_config()\n",
    "}\n",
    "\n",
    "library(keras)"
   ]
  },
  {
   "cell_type": "code",
   "execution_count": 17,
   "metadata": {},
   "outputs": [],
   "source": [
    "top_words <- 10000\n",
    "imdb <- dataset_imdb(num_words = top_words)\n",
    "\n",
    "x_train <- imdb$train$x\n",
    "y_train <- imdb$train$y\n",
    "x_test  <- imdb$test$x\n",
    "y_test  <- imdb$test$y"
   ]
  },
  {
   "cell_type": "code",
   "execution_count": 18,
   "metadata": {},
   "outputs": [
    {
     "name": "stdout",
     "output_type": "stream",
     "text": [
      "[1] \"Training examples: 25000\"\n",
      "[1] \"Test examples: 25000\"\n"
     ]
    }
   ],
   "source": [
    "print(paste(\"Training examples:\", length(x_train)))\n",
    "print(paste(\"Test examples:\", length(x_test)))"
   ]
  },
  {
   "cell_type": "code",
   "execution_count": 19,
   "metadata": {},
   "outputs": [
    {
     "data": {
      "text/html": [
       "<style>\n",
       ".dl-inline {width: auto; margin:0; padding: 0}\n",
       ".dl-inline>dt, .dl-inline>dd {float: none; width: auto; display: inline-block}\n",
       ".dl-inline>dt::after {content: \":\\0020\"; padding-right: .5ex}\n",
       ".dl-inline>dt:not(:first-of-type) {padding-left: .5ex}\n",
       "</style><dl class=dl-inline><dt>0</dt><dd>12500</dd><dt>1</dt><dd>12500</dd></dl>\n"
      ],
      "text/latex": [
       "\\begin{description*}\n",
       "\\item[0] 12500\n",
       "\\item[1] 12500\n",
       "\\end{description*}\n"
      ],
      "text/markdown": [
       "0\n",
       ":   125001\n",
       ":   12500\n",
       "\n"
      ],
      "text/plain": [
       "    0     1 \n",
       "12500 12500 "
      ]
     },
     "metadata": {},
     "output_type": "display_data"
    }
   ],
   "source": [
    "summary(as.factor(y_train))"
   ]
  },
  {
   "cell_type": "markdown",
   "metadata": {},
   "source": [
    "### Creating the review dictionaries"
   ]
  },
  {
   "cell_type": "code",
   "execution_count": 20,
   "metadata": {},
   "outputs": [],
   "source": [
    "word_index <- dataset_imdb_word_index()\n",
    "\n",
    "id_to_word <- data.frame(\n",
    "  word = names(word_index),\n",
    "  idx = unlist(word_index, use.names=FALSE),\n",
    "  stringsAsFactors = FALSE\n",
    ")\n",
    "\n",
    "id_to_word$idx <- id_to_word$idx + 3\n",
    "id_to_word[nrow(id_to_word) + 1,] = c(\"<PAD>\", 0)\n",
    "id_to_word[nrow(id_to_word) + 1,] = c(\"<START>\", 1)\n",
    "id_to_word[nrow(id_to_word) + 1,] = c(\"<UNK>\", 2)\n",
    "id_to_word[nrow(id_to_word) + 1,] = c(\"<UNUSED>\", 3)\n",
    "\n",
    "convert_to_text <- function(sequence) {\n",
    "    text = \"\"\n",
    "    for (element in sequence) {\n",
    "        text <- paste(text, id_to_word$word[which(id_to_word$idx == element)])\n",
    "    }\n",
    "    return (text)\n",
    "}"
   ]
  },
  {
   "cell_type": "code",
   "execution_count": 21,
   "metadata": {},
   "outputs": [
    {
     "name": "stdout",
     "output_type": "stream",
     "text": [
      "[1] \" <START> this film was just brilliant casting location scenery story direction everyone's really suited the part they played and you could just imagine being there robert <UNK> is an amazing actor and now the same being director <UNK> father came from the same scottish island as myself so i loved the fact there was a real connection with this film the witty remarks throughout the film were great it was just brilliant so much that i bought the film as soon as it was released for <UNK> and would recommend it to everyone to watch and the fly fishing was amazing really cried at the end it was so sad and you know what they say if you cry at a film it must have been good and this definitely was also <UNK> to the two little boy's that played the <UNK> of norman and paul they were just brilliant children are often left out of the <UNK> list i think because the stars that play them all grown up are such a big profile for the whole film but these children are amazing and should be praised for what they have done don't you think the whole story was so lovely because it was true and was someone's life after all that was shared with us all\"\n"
     ]
    }
   ],
   "source": [
    "print(convert_to_text(x_train[[1]]))"
   ]
  },
  {
   "cell_type": "markdown",
   "metadata": {},
   "source": [
    "### Performing input padding"
   ]
  },
  {
   "cell_type": "code",
   "execution_count": 22,
   "metadata": {},
   "outputs": [],
   "source": [
    "max_pad <- 200\n",
    "\n",
    "x_train <- pad_sequences(\n",
    "  x_train,\n",
    "  value = 0,\n",
    "  padding = \"post\",\n",
    "  maxlen = max_pad\n",
    ")\n",
    "\n",
    "x_test <- pad_sequences(\n",
    "  x_test,\n",
    "  value = 0,\n",
    "  padding = \"post\",\n",
    "  maxlen = max_pad\n",
    ")"
   ]
  },
  {
   "cell_type": "markdown",
   "metadata": {},
   "source": [
    "### Designing an architecture"
   ]
  },
  {
   "cell_type": "code",
   "execution_count": 23,
   "metadata": {},
   "outputs": [
    {
     "data": {
      "text/plain": [
       "Model: \"sequential\"\n",
       "________________________________________________________________________________\n",
       " Layer (type)                       Output Shape                    Param #     \n",
       "================================================================================\n",
       " embedding (Embedding)              (None, None, 32)                320000      \n",
       " global_average_pooling1d (GlobalAv  (None, 32)                     0           \n",
       " eragePooling1D)                                                                \n",
       " dense_4 (Dense)                    (None, 16)                      528         \n",
       " dense_3 (Dense)                    (None, 1)                       17          \n",
       "================================================================================\n",
       "Total params: 320,545\n",
       "Trainable params: 320,545\n",
       "Non-trainable params: 0\n",
       "________________________________________________________________________________"
      ]
     },
     "metadata": {},
     "output_type": "display_data"
    }
   ],
   "source": [
    "embedding_vector_length <- 32\n",
    "\n",
    "model <- keras_model_sequential()\n",
    "model %>% \n",
    "  layer_embedding(input_dim=top_words, \n",
    "                  output_dim=embedding_vector_length) %>%\n",
    "  layer_global_average_pooling_1d() %>%\n",
    "  layer_dense(units = 16, activation = \"relu\") %>%\n",
    "  layer_dense(units = 1, activation = \"sigmoid\")\n",
    "\n",
    "model"
   ]
  },
  {
   "cell_type": "code",
   "execution_count": 24,
   "metadata": {},
   "outputs": [],
   "source": [
    "model %>% compile(\n",
    "  optimizer = 'adam',\n",
    "  loss = 'binary_crossentropy',\n",
    "  metrics = list('accuracy')\n",
    ")"
   ]
  },
  {
   "cell_type": "markdown",
   "metadata": {},
   "source": [
    "### Training and testing the network"
   ]
  },
  {
   "cell_type": "code",
   "execution_count": 25,
   "metadata": {},
   "outputs": [],
   "source": [
    "history <- model %>% fit(\n",
    "  x_train,\n",
    "  y_train,\n",
    "  epochs = 15,\n",
    "  batch_size = 256,\n",
    "  validation_data = list(x_test, y_test),\n",
    "  verbose=1\n",
    ")"
   ]
  },
  {
   "cell_type": "code",
   "execution_count": 26,
   "metadata": {},
   "outputs": [
    {
     "name": "stdout",
     "output_type": "stream",
     "text": [
      "Test loss: 0.3443515 \n",
      "Test accuracy: 0.868 \n"
     ]
    },
    {
     "data": {
      "image/png": "[encoded data removed]",
      "text/plain": [
       "plot without title"
      ]
     },
     "metadata": {
      "image/png": {
       "height": 420,
       "width": 420
      }
     },
     "output_type": "display_data"
    }
   ],
   "source": [
    "# Plotting training and test dynamics\n",
    "plot(history, method='auto', metrics=c('loss', 'binary_crossentropy'))\n",
    "\n",
    "# Output metrics\n",
    "scores <- model %>% evaluate(x_test, y_test, verbose=0)\n",
    "cat('Test loss:', scores[[1]], '\\n')\n",
    "cat('Test accuracy:', scores[[2]], '\\n')"
   ]
  },
  {
   "cell_type": "markdown",
   "metadata": {},
   "source": [
    "# Processing Time Series"
   ]
  },
  {
   "cell_type": "markdown",
   "metadata": {},
   "source": [
    "## Defining sequences of events"
   ]
  },
  {
   "cell_type": "code",
   "execution_count": 27,
   "metadata": {},
   "outputs": [],
   "source": [
    "url = \"https://raw.githubusercontent.com/jbrownlee/Datasets/master/airline-passengers.csv\"\n",
    "x = read.csv(file=url)\n",
    "x[,1] <- as.Date(paste(x[,1],\"-01\",sep=\"\"))"
   ]
  },
  {
   "cell_type": "code",
   "execution_count": 28,
   "metadata": {},
   "outputs": [
    {
     "data": {
      "image/png": "[encoded data removed]",
      "text/plain": [
       "plot without title"
      ]
     },
     "metadata": {
      "image/png": {
       "height": 420,
       "width": 420
      }
     },
     "output_type": "display_data"
    }
   ],
   "source": [
    "plot(x$Passengers~x$Month, \n",
    "     type='l', lwd=2, col=\"blue\", \n",
    "     xlab=\"Year\", ylab=\"Passengers\")"
   ]
  },
  {
   "cell_type": "markdown",
   "metadata": {},
   "source": [
    "## Performing a prediction using LSTM"
   ]
  },
  {
   "cell_type": "markdown",
   "metadata": {},
   "source": [
    "### Creating training and testing datasets"
   ]
  },
  {
   "cell_type": "code",
   "execution_count": 29,
   "metadata": {},
   "outputs": [
    {
     "name": "stdout",
     "output_type": "stream",
     "text": [
      "[1] \"Train size: 96 , Test size: 49\"\n"
     ]
    }
   ],
   "source": [
    "normValues <- (x$Passengers - min(x$Passengers)) / (max(x$Passengers) - min(x$Passengers))\n",
    "train <- normValues[1:96]\n",
    "test <- normValues[96:144]\n",
    "print(paste(\"Train size:\", length(train), \", Test size:\", length(test)))"
   ]
  },
  {
   "cell_type": "code",
   "execution_count": 30,
   "metadata": {},
   "outputs": [],
   "source": [
    "create_dataset <- function(data, lookback) {\n",
    "    batch <- list()\n",
    "    response <- list()\n",
    "    for (t in (lookback+1):(length(data)-1)) {\n",
    "        iteration <- length(batch)+1\n",
    "        batch[[iteration]] <- data[(t-lookback):t]\n",
    "        response[[iteration]] <- data[t+1]\n",
    "    }\n",
    "    return(list(array(unlist(batch), dim=c(length(batch), 1, lookback+1)) , unlist(response)))\n",
    "}"
   ]
  },
  {
   "cell_type": "code",
   "execution_count": 31,
   "metadata": {},
   "outputs": [],
   "source": [
    "train_extract <- create_dataset(train, lookback=1)\n",
    "test_extract <- create_dataset(test, lookback=1)\n",
    "trainX <- train_extract[[1]]\n",
    "trainY <- train_extract[[2]]\n",
    "testX <- test_extract[[1]]\n",
    "testY <- test_extract[[2]]"
   ]
  },
  {
   "cell_type": "markdown",
   "metadata": {},
   "source": [
    "### Defining the passenger analysis model"
   ]
  },
  {
   "cell_type": "code",
   "execution_count": 33,
   "metadata": {},
   "outputs": [
    {
     "data": {
      "text/html": [
       "<style>\n",
       ".list-inline {list-style: none; margin:0; padding: 0}\n",
       ".list-inline>li {display: inline-block}\n",
       ".list-inline>li:not(:last-child)::after {content: \"\\00b7\"; padding: 0 .5ex}\n",
       "</style>\n",
       "<ol class=list-inline><li>1</li><li>2</li></ol>\n"
      ],
      "text/latex": [
       "\\begin{enumerate*}\n",
       "\\item 1\n",
       "\\item 2\n",
       "\\end{enumerate*}\n"
      ],
      "text/markdown": [
       "1. 1\n",
       "2. 2\n",
       "\n",
       "\n"
      ],
      "text/plain": [
       "[1] 1 2"
      ]
     },
     "metadata": {},
     "output_type": "display_data"
    }
   ],
   "source": [
    "library(keras)\n",
    "\n",
    "model <- keras_model_sequential() %>% \n",
    "  layer_gru(units = 1, input_shape = c(NULL, dim(trainX)[2], dim(trainX)[3])) %>% \n",
    "  layer_dense(units = 1)\n",
    "\n",
    "model %>% compile(\n",
    "  optimizer = optimizer_adam(),\n",
    "  loss = \"mean_squared_error\"\n",
    ")\n",
    "\n",
    "history <- model %>% fit(\n",
    "    trainX,\n",
    "    trainY,\n",
    "    epochs = 50,\n",
    "    batch_size = 1,\n",
    "    validation_data = list(testX, testY),\n",
    "    verbose=1\n",
    ")\n",
    "\n",
    "c(NULL, dim(trainX)[2], dim(trainX)[3])"
   ]
  },
  {
   "cell_type": "code",
   "execution_count": 39,
   "metadata": {},
   "outputs": [
    {
     "data": {
      "text/html": [
       "<style>\n",
       ".list-inline {list-style: none; margin:0; padding: 0}\n",
       ".list-inline>li {display: inline-block}\n",
       ".list-inline>li:not(:last-child)::after {content: \"\\00b7\"; padding: 0 .5ex}\n",
       "</style>\n",
       "<ol class=list-inline><li>0.0154440154440154</li><li>0.027027027027027</li><li>0.0540540540540541</li><li>0.0482625482625483</li><li>0.0328185328185328</li><li>0.0598455598455598</li><li>0.0849420849420849</li><li>0.0849420849420849</li><li>0.0617760617760618</li><li>0.028957528957529</li><li>0</li><li>0.027027027027027</li><li>0.0212355212355212</li><li>0.0424710424710425</li><li>0.0714285714285714</li><li>0.0598455598455598</li><li>0.0405405405405405</li><li>0.0868725868725869</li><li>0.127413127413127</li><li>0.127413127413127</li><li>0.104247104247104</li><li>0.055984555984556</li><li>0.0193050193050193</li><li>0.0694980694980695</li><li>0.0791505791505791</li><li>0.0888030888030888</li><li>0.142857142857143</li><li>0.113899613899614</li><li>0.131274131274131</li><li>0.142857142857143</li><li>0.183397683397683</li><li>0.183397683397683</li><li>0.154440154440154</li><li>0.111969111969112</li><li>0.0810810810810811</li><li>0.11969111969112</li><li>0.129343629343629</li><li>0.146718146718147</li><li>0.171814671814672</li><li>0.148648648648649</li><li>0.152509652509653</li><li>0.22007722007722</li><li>0.243243243243243</li><li>0.266409266409266</li><li>0.202702702702703</li><li>0.167953667953668</li><li>0.131274131274131</li><li>0.173745173745174</li><li>0.177606177606178</li><li>0.177606177606178</li><li>0.254826254826255</li><li>0.252895752895753</li><li>0.241312741312741</li><li>0.268339768339768</li><li>0.308880308880309</li><li>0.324324324324324</li><li>0.256756756756757</li><li>0.206563706563707</li><li>0.146718146718147</li><li>0.187258687258687</li><li>0.193050193050193</li><li>0.162162162162162</li><li>0.252895752895753</li><li>0.237451737451737</li><li>0.250965250965251</li><li>0.308880308880309</li><li>0.382239382239382</li><li>0.364864864864865</li><li>0.299227799227799</li><li>0.241312741312741</li><li>0.191119691119691</li><li>0.241312741312741</li><li>0.266409266409266</li><li>0.249034749034749</li><li>0.314671814671815</li><li>0.318532818532819</li><li>0.32046332046332</li><li>0.407335907335907</li><li>0.501930501930502</li><li>0.469111969111969</li><li>0.401544401544402</li><li>0.328185328185328</li><li>0.256756756756757</li><li>0.335907335907336</li><li>0.347490347490348</li><li>0.333976833976834</li><li>0.411196911196911</li><li>0.403474903474904</li><li>0.413127413127413</li><li>0.521235521235521</li><li>0.596525096525097</li><li>0.581081081081081</li><li>0.484555984555985</li><li>0.38996138996139</li><li>0.322393822393822</li><li>0.38996138996139</li><li>0.407335907335907</li><li>0.38030888030888</li><li>0.486486486486487</li><li>0.471042471042471</li><li>0.484555984555985</li><li>0.613899613899614</li><li>0.696911196911197</li><li>0.700772200772201</li><li>0.579150579150579</li><li>0.469111969111969</li><li>0.388030888030888</li><li>0.447876447876448</li><li>0.455598455598456</li><li>0.413127413127413</li><li>0.498069498069498</li><li>0.471042471042471</li><li>0.5</li><li>0.638996138996139</li><li>0.747104247104247</li><li>0.774131274131274</li><li>0.579150579150579</li><li>0.492277992277992</li><li>0.397683397683398</li><li>0.44980694980695</li><li>0.494208494208494</li><li>0.459459459459459</li><li>0.583011583011583</li><li>0.563706563706564</li><li>0.61003861003861</li><li>0.71042471042471</li><li>0.857142857142857</li><li>0.878378378378378</li><li>0.693050193050193</li><li>0.584942084942085</li><li>0.498069498069498</li><li>0.581081081081081</li><li>0.604247104247104</li><li>0.554054054054054</li><li>0.608108108108108</li><li>0.689189189189189</li><li>0.71042471042471</li><li>0.832046332046332</li><li>1</li><li>0.969111969111969</li><li>0.77992277992278</li><li>0.689189189189189</li><li>0.552123552123552</li><li>0.633204633204633</li></ol>\n"
      ],
      "text/latex": [
       "\\begin{enumerate*}\n",
       "\\item 0.0154440154440154\n",
       "\\item 0.027027027027027\n",
       "\\item 0.0540540540540541\n",
       "\\item 0.0482625482625483\n",
       "\\item 0.0328185328185328\n",
       "\\item 0.0598455598455598\n",
       "\\item 0.0849420849420849\n",
       "\\item 0.0849420849420849\n",
       "\\item 0.0617760617760618\n",
       "\\item 0.028957528957529\n",
       "\\item 0\n",
       "\\item 0.027027027027027\n",
       "\\item 0.0212355212355212\n",
       "\\item 0.0424710424710425\n",
       "\\item 0.0714285714285714\n",
       "\\item 0.0598455598455598\n",
       "\\item 0.0405405405405405\n",
       "\\item 0.0868725868725869\n",
       "\\item 0.127413127413127\n",
       "\\item 0.127413127413127\n",
       "\\item 0.104247104247104\n",
       "\\item 0.055984555984556\n",
       "\\item 0.0193050193050193\n",
       "\\item 0.0694980694980695\n",
       "\\item 0.0791505791505791\n",
       "\\item 0.0888030888030888\n",
       "\\item 0.142857142857143\n",
       "\\item 0.113899613899614\n",
       "\\item 0.131274131274131\n",
       "\\item 0.142857142857143\n",
       "\\item 0.183397683397683\n",
       "\\item 0.183397683397683\n",
       "\\item 0.154440154440154\n",
       "\\item 0.111969111969112\n",
       "\\item 0.0810810810810811\n",
       "\\item 0.11969111969112\n",
       "\\item 0.129343629343629\n",
       "\\item 0.146718146718147\n",
       "\\item 0.171814671814672\n",
       "\\item 0.148648648648649\n",
       "\\item 0.152509652509653\n",
       "\\item 0.22007722007722\n",
       "\\item 0.243243243243243\n",
       "\\item 0.266409266409266\n",
       "\\item 0.202702702702703\n",
       "\\item 0.167953667953668\n",
       "\\item 0.131274131274131\n",
       "\\item 0.173745173745174\n",
       "\\item 0.177606177606178\n",
       "\\item 0.177606177606178\n",
       "\\item 0.254826254826255\n",
       "\\item 0.252895752895753\n",
       "\\item 0.241312741312741\n",
       "\\item 0.268339768339768\n",
       "\\item 0.308880308880309\n",
       "\\item 0.324324324324324\n",
       "\\item 0.256756756756757\n",
       "\\item 0.206563706563707\n",
       "\\item 0.146718146718147\n",
       "\\item 0.187258687258687\n",
       "\\item 0.193050193050193\n",
       "\\item 0.162162162162162\n",
       "\\item 0.252895752895753\n",
       "\\item 0.237451737451737\n",
       "\\item 0.250965250965251\n",
       "\\item 0.308880308880309\n",
       "\\item 0.382239382239382\n",
       "\\item 0.364864864864865\n",
       "\\item 0.299227799227799\n",
       "\\item 0.241312741312741\n",
       "\\item 0.191119691119691\n",
       "\\item 0.241312741312741\n",
       "\\item 0.266409266409266\n",
       "\\item 0.249034749034749\n",
       "\\item 0.314671814671815\n",
       "\\item 0.318532818532819\n",
       "\\item 0.32046332046332\n",
       "\\item 0.407335907335907\n",
       "\\item 0.501930501930502\n",
       "\\item 0.469111969111969\n",
       "\\item 0.401544401544402\n",
       "\\item 0.328185328185328\n",
       "\\item 0.256756756756757\n",
       "\\item 0.335907335907336\n",
       "\\item 0.347490347490348\n",
       "\\item 0.333976833976834\n",
       "\\item 0.411196911196911\n",
       "\\item 0.403474903474904\n",
       "\\item 0.413127413127413\n",
       "\\item 0.521235521235521\n",
       "\\item 0.596525096525097\n",
       "\\item 0.581081081081081\n",
       "\\item 0.484555984555985\n",
       "\\item 0.38996138996139\n",
       "\\item 0.322393822393822\n",
       "\\item 0.38996138996139\n",
       "\\item 0.407335907335907\n",
       "\\item 0.38030888030888\n",
       "\\item 0.486486486486487\n",
       "\\item 0.471042471042471\n",
       "\\item 0.484555984555985\n",
       "\\item 0.613899613899614\n",
       "\\item 0.696911196911197\n",
       "\\item 0.700772200772201\n",
       "\\item 0.579150579150579\n",
       "\\item 0.469111969111969\n",
       "\\item 0.388030888030888\n",
       "\\item 0.447876447876448\n",
       "\\item 0.455598455598456\n",
       "\\item 0.413127413127413\n",
       "\\item 0.498069498069498\n",
       "\\item 0.471042471042471\n",
       "\\item 0.5\n",
       "\\item 0.638996138996139\n",
       "\\item 0.747104247104247\n",
       "\\item 0.774131274131274\n",
       "\\item 0.579150579150579\n",
       "\\item 0.492277992277992\n",
       "\\item 0.397683397683398\n",
       "\\item 0.44980694980695\n",
       "\\item 0.494208494208494\n",
       "\\item 0.459459459459459\n",
       "\\item 0.583011583011583\n",
       "\\item 0.563706563706564\n",
       "\\item 0.61003861003861\n",
       "\\item 0.71042471042471\n",
       "\\item 0.857142857142857\n",
       "\\item 0.878378378378378\n",
       "\\item 0.693050193050193\n",
       "\\item 0.584942084942085\n",
       "\\item 0.498069498069498\n",
       "\\item 0.581081081081081\n",
       "\\item 0.604247104247104\n",
       "\\item 0.554054054054054\n",
       "\\item 0.608108108108108\n",
       "\\item 0.689189189189189\n",
       "\\item 0.71042471042471\n",
       "\\item 0.832046332046332\n",
       "\\item 1\n",
       "\\item 0.969111969111969\n",
       "\\item 0.77992277992278\n",
       "\\item 0.689189189189189\n",
       "\\item 0.552123552123552\n",
       "\\item 0.633204633204633\n",
       "\\end{enumerate*}\n"
      ],
      "text/markdown": [
       "1. 0.0154440154440154\n",
       "2. 0.027027027027027\n",
       "3. 0.0540540540540541\n",
       "4. 0.0482625482625483\n",
       "5. 0.0328185328185328\n",
       "6. 0.0598455598455598\n",
       "7. 0.0849420849420849\n",
       "8. 0.0849420849420849\n",
       "9. 0.0617760617760618\n",
       "10. 0.028957528957529\n",
       "11. 0\n",
       "12. 0.027027027027027\n",
       "13. 0.0212355212355212\n",
       "14. 0.0424710424710425\n",
       "15. 0.0714285714285714\n",
       "16. 0.0598455598455598\n",
       "17. 0.0405405405405405\n",
       "18. 0.0868725868725869\n",
       "19. 0.127413127413127\n",
       "20. 0.127413127413127\n",
       "21. 0.104247104247104\n",
       "22. 0.055984555984556\n",
       "23. 0.0193050193050193\n",
       "24. 0.0694980694980695\n",
       "25. 0.0791505791505791\n",
       "26. 0.0888030888030888\n",
       "27. 0.142857142857143\n",
       "28. 0.113899613899614\n",
       "29. 0.131274131274131\n",
       "30. 0.142857142857143\n",
       "31. 0.183397683397683\n",
       "32. 0.183397683397683\n",
       "33. 0.154440154440154\n",
       "34. 0.111969111969112\n",
       "35. 0.0810810810810811\n",
       "36. 0.11969111969112\n",
       "37. 0.129343629343629\n",
       "38. 0.146718146718147\n",
       "39. 0.171814671814672\n",
       "40. 0.148648648648649\n",
       "41. 0.152509652509653\n",
       "42. 0.22007722007722\n",
       "43. 0.243243243243243\n",
       "44. 0.266409266409266\n",
       "45. 0.202702702702703\n",
       "46. 0.167953667953668\n",
       "47. 0.131274131274131\n",
       "48. 0.173745173745174\n",
       "49. 0.177606177606178\n",
       "50. 0.177606177606178\n",
       "51. 0.254826254826255\n",
       "52. 0.252895752895753\n",
       "53. 0.241312741312741\n",
       "54. 0.268339768339768\n",
       "55. 0.308880308880309\n",
       "56. 0.324324324324324\n",
       "57. 0.256756756756757\n",
       "58. 0.206563706563707\n",
       "59. 0.146718146718147\n",
       "60. 0.187258687258687\n",
       "61. 0.193050193050193\n",
       "62. 0.162162162162162\n",
       "63. 0.252895752895753\n",
       "64. 0.237451737451737\n",
       "65. 0.250965250965251\n",
       "66. 0.308880308880309\n",
       "67. 0.382239382239382\n",
       "68. 0.364864864864865\n",
       "69. 0.299227799227799\n",
       "70. 0.241312741312741\n",
       "71. 0.191119691119691\n",
       "72. 0.241312741312741\n",
       "73. 0.266409266409266\n",
       "74. 0.249034749034749\n",
       "75. 0.314671814671815\n",
       "76. 0.318532818532819\n",
       "77. 0.32046332046332\n",
       "78. 0.407335907335907\n",
       "79. 0.501930501930502\n",
       "80. 0.469111969111969\n",
       "81. 0.401544401544402\n",
       "82. 0.328185328185328\n",
       "83. 0.256756756756757\n",
       "84. 0.335907335907336\n",
       "85. 0.347490347490348\n",
       "86. 0.333976833976834\n",
       "87. 0.411196911196911\n",
       "88. 0.403474903474904\n",
       "89. 0.413127413127413\n",
       "90. 0.521235521235521\n",
       "91. 0.596525096525097\n",
       "92. 0.581081081081081\n",
       "93. 0.484555984555985\n",
       "94. 0.38996138996139\n",
       "95. 0.322393822393822\n",
       "96. 0.38996138996139\n",
       "97. 0.407335907335907\n",
       "98. 0.38030888030888\n",
       "99. 0.486486486486487\n",
       "100. 0.471042471042471\n",
       "101. 0.484555984555985\n",
       "102. 0.613899613899614\n",
       "103. 0.696911196911197\n",
       "104. 0.700772200772201\n",
       "105. 0.579150579150579\n",
       "106. 0.469111969111969\n",
       "107. 0.388030888030888\n",
       "108. 0.447876447876448\n",
       "109. 0.455598455598456\n",
       "110. 0.413127413127413\n",
       "111. 0.498069498069498\n",
       "112. 0.471042471042471\n",
       "113. 0.5\n",
       "114. 0.638996138996139\n",
       "115. 0.747104247104247\n",
       "116. 0.774131274131274\n",
       "117. 0.579150579150579\n",
       "118. 0.492277992277992\n",
       "119. 0.397683397683398\n",
       "120. 0.44980694980695\n",
       "121. 0.494208494208494\n",
       "122. 0.459459459459459\n",
       "123. 0.583011583011583\n",
       "124. 0.563706563706564\n",
       "125. 0.61003861003861\n",
       "126. 0.71042471042471\n",
       "127. 0.857142857142857\n",
       "128. 0.878378378378378\n",
       "129. 0.693050193050193\n",
       "130. 0.584942084942085\n",
       "131. 0.498069498069498\n",
       "132. 0.581081081081081\n",
       "133. 0.604247104247104\n",
       "134. 0.554054054054054\n",
       "135. 0.608108108108108\n",
       "136. 0.689189189189189\n",
       "137. 0.71042471042471\n",
       "138. 0.832046332046332\n",
       "139. 1\n",
       "140. 0.969111969111969\n",
       "141. 0.77992277992278\n",
       "142. 0.689189189189189\n",
       "143. 0.552123552123552\n",
       "144. 0.633204633204633\n",
       "\n",
       "\n"
      ],
      "text/plain": [
       "  [1] 0.01544402 0.02702703 0.05405405 0.04826255 0.03281853 0.05984556\n",
       "  [7] 0.08494208 0.08494208 0.06177606 0.02895753 0.00000000 0.02702703\n",
       " [13] 0.02123552 0.04247104 0.07142857 0.05984556 0.04054054 0.08687259\n",
       " [19] 0.12741313 0.12741313 0.10424710 0.05598456 0.01930502 0.06949807\n",
       " [25] 0.07915058 0.08880309 0.14285714 0.11389961 0.13127413 0.14285714\n",
       " [31] 0.18339768 0.18339768 0.15444015 0.11196911 0.08108108 0.11969112\n",
       " [37] 0.12934363 0.14671815 0.17181467 0.14864865 0.15250965 0.22007722\n",
       " [43] 0.24324324 0.26640927 0.20270270 0.16795367 0.13127413 0.17374517\n",
       " [49] 0.17760618 0.17760618 0.25482625 0.25289575 0.24131274 0.26833977\n",
       " [55] 0.30888031 0.32432432 0.25675676 0.20656371 0.14671815 0.18725869\n",
       " [61] 0.19305019 0.16216216 0.25289575 0.23745174 0.25096525 0.30888031\n",
       " [67] 0.38223938 0.36486486 0.29922780 0.24131274 0.19111969 0.24131274\n",
       " [73] 0.26640927 0.24903475 0.31467181 0.31853282 0.32046332 0.40733591\n",
       " [79] 0.50193050 0.46911197 0.40154440 0.32818533 0.25675676 0.33590734\n",
       " [85] 0.34749035 0.33397683 0.41119691 0.40347490 0.41312741 0.52123552\n",
       " [91] 0.59652510 0.58108108 0.48455598 0.38996139 0.32239382 0.38996139\n",
       " [97] 0.40733591 0.38030888 0.48648649 0.47104247 0.48455598 0.61389961\n",
       "[103] 0.69691120 0.70077220 0.57915058 0.46911197 0.38803089 0.44787645\n",
       "[109] 0.45559846 0.41312741 0.49806950 0.47104247 0.50000000 0.63899614\n",
       "[115] 0.74710425 0.77413127 0.57915058 0.49227799 0.39768340 0.44980695\n",
       "[121] 0.49420849 0.45945946 0.58301158 0.56370656 0.61003861 0.71042471\n",
       "[127] 0.85714286 0.87837838 0.69305019 0.58494208 0.49806950 0.58108108\n",
       "[133] 0.60424710 0.55405405 0.60810811 0.68918919 0.71042471 0.83204633\n",
       "[139] 1.00000000 0.96911197 0.77992278 0.68918919 0.55212355 0.63320463"
      ]
     },
     "metadata": {},
     "output_type": "display_data"
    }
   ],
   "source": [
    "normValues"
   ]
  },
  {
   "cell_type": "markdown",
   "metadata": {},
   "source": [
    "### Making a prediction"
   ]
  },
  {
   "cell_type": "code",
   "execution_count": 188,
   "metadata": {},
   "outputs": [
    {
     "name": "stdout",
     "output_type": "stream",
     "text": [
      "Test mean_squared_error: 0.01977898 \n"
     ]
    },
    {
     "data": {
      "image/png": "[encoded data removed]",
      "text/plain": [
       "plot without title"
      ]
     },
     "metadata": {
      "image/png": {
       "height": 420,
       "width": 420
      },
      "text/plain": {
       "height": 420,
       "width": 420
      }
     },
     "output_type": "display_data"
    }
   ],
   "source": [
    "# Plotting training and test dynamics\n",
    "plot(history, method='auto', metrics=c('loss', 'mean_squared_error'))\n",
    "\n",
    "# Output metrics\n",
    "scores <- model %>% evaluate(testX, testY, verbose=0)\n",
    "cat('Test RMSE:', scores[[1]], '\\n')"
   ]
  }
 ],
 "metadata": {
  "kernelspec": {
   "display_name": "R",
   "language": "R",
   "name": "ir"
  },
  "language_info": {
   "codemirror_mode": "r",
   "file_extension": ".r",
   "mimetype": "text/x-r-source",
   "name": "R",
   "pygments_lexer": "r",
   "version": "4.2.0"
  }
 },
 "nbformat": 4,
 "nbformat_minor": 2
}
