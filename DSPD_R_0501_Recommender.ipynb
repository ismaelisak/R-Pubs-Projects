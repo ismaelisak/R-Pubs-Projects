{
 "cells": [
  {
   "cell_type": "markdown",
   "metadata": {},
   "source": [
    "# Downloading Rating Data"
   ]
  },
  {
   "cell_type": "markdown",
   "metadata": {},
   "source": [
    "## Navigating through anonymous web data"
   ]
  },
  {
   "cell_type": "code",
   "execution_count": 1,
   "metadata": {},
   "outputs": [
    {
     "name": "stderr",
     "output_type": "stream",
     "text": [
      "Loading required package: RCurl\n",
      "\n"
     ]
    }
   ],
   "source": [
    "if (!require(\"RCurl\")) install.packages(\"RCurl\", repos='http://cran.us.r-project.org')"
   ]
  },
  {
   "cell_type": "code",
   "execution_count": 2,
   "metadata": {},
   "outputs": [],
   "source": [
    "library(RCurl)\n",
    "URL <- \"https://github.com/amirkrifa/ms-web-dataset/raw/master/anonymous-msweb.data\"\n",
    "file <- read.delim(URL, header=FALSE, sep=\"\\n\", stringsAsFactors=FALSE)[,1]"
   ]
  },
  {
   "cell_type": "code",
   "execution_count": 3,
   "metadata": {},
   "outputs": [
    {
     "data": {
      "text/html": [
       "<style>\n",
       ".list-inline {list-style: none; margin:0; padding: 0}\n",
       ".list-inline>li {display: inline-block}\n",
       ".list-inline>li:not(:last-child)::after {content: \"\\00b7\"; padding: 0 .5ex}\n",
       "</style>\n",
       "<ol class=list-inline><li>'I,4,www.microsoft.com,created by getlog.pl'</li><li>'T,1,VRoot,0,0,VRoot'</li><li>'N,0,0'</li><li>'N,1,1'</li><li>'T,2,Hide1,0,0,Hide'</li><li>'N,0,0'</li><li>'N,1,1'</li><li>'A,1287,1,International AutoRoute,/autoroute'</li><li>'A,1288,1,library,/library'</li><li>'A,1289,1,Master Chef Product Information,/masterchef'</li></ol>\n"
      ],
      "text/latex": [
       "\\begin{enumerate*}\n",
       "\\item 'I,4,www.microsoft.com,created by getlog.pl'\n",
       "\\item 'T,1,VRoot,0,0,VRoot'\n",
       "\\item 'N,0,0'\n",
       "\\item 'N,1,1'\n",
       "\\item 'T,2,Hide1,0,0,Hide'\n",
       "\\item 'N,0,0'\n",
       "\\item 'N,1,1'\n",
       "\\item 'A,1287,1,International AutoRoute,/autoroute'\n",
       "\\item 'A,1288,1,library,/library'\n",
       "\\item 'A,1289,1,Master Chef Product Information,/masterchef'\n",
       "\\end{enumerate*}\n"
      ],
      "text/markdown": [
       "1. 'I,4,www.microsoft.com,created by getlog.pl'\n",
       "2. 'T,1,VRoot,0,0,VRoot'\n",
       "3. 'N,0,0'\n",
       "4. 'N,1,1'\n",
       "5. 'T,2,Hide1,0,0,Hide'\n",
       "6. 'N,0,0'\n",
       "7. 'N,1,1'\n",
       "8. 'A,1287,1,International AutoRoute,/autoroute'\n",
       "9. 'A,1288,1,library,/library'\n",
       "10. 'A,1289,1,Master Chef Product Information,/masterchef'\n",
       "\n",
       "\n"
      ],
      "text/plain": [
       " [1] \"I,4,www.microsoft.com,created by getlog.pl\"          \n",
       " [2] \"T,1,VRoot,0,0,VRoot\"                                 \n",
       " [3] \"N,0,0\"                                               \n",
       " [4] \"N,1,1\"                                               \n",
       " [5] \"T,2,Hide1,0,0,Hide\"                                  \n",
       " [6] \"N,0,0\"                                               \n",
       " [7] \"N,1,1\"                                               \n",
       " [8] \"A,1287,1,International AutoRoute,/autoroute\"         \n",
       " [9] \"A,1288,1,library,/library\"                           \n",
       "[10] \"A,1289,1,Master Chef Product Information,/masterchef\""
      ]
     },
     "metadata": {},
     "output_type": "display_data"
    }
   ],
   "source": [
    "file[1:10]"
   ]
  },
  {
   "cell_type": "code",
   "execution_count": 4,
   "metadata": {},
   "outputs": [],
   "source": [
    "log_attributes <- list()\n",
    "page_visits <- list()\n",
    "user_visits <- list()\n",
    "\n",
    "log_attribute <- setClass(\"log_attribute\", slots = c(page = \"numeric\", \n",
    "                                             id = \"numeric\", \n",
    "                                             description = \"character\", \n",
    "                                             url = \"character\"))\n",
    "\n",
    "current_user_id <- -1\n",
    "current_user_ids <- NULL\n",
    "\n",
    "for (filerow in 1:length(file)) {\n",
    "    chunks <- unlist(strsplit(file[filerow], \",\"))\n",
    "    entry_type <- chunks[1]\n",
    "    \n",
    "    if (entry_type==\"A\") {\n",
    "        type <- chunks[1]\n",
    "        id <- chunks[2] \n",
    "        ignored <- chunks[3] \n",
    "        description <- chunks[4] \n",
    "        url <- chunks[5]\n",
    "        log_attributes[[as.integer(id)]] <- log_attribute(id=as.integer(id), \n",
    "                                                description=description, \n",
    "                                                url=url)\n",
    "        \n",
    "    } else if (entry_type==\"C\") {\n",
    "        if (current_user_id!=-1) {\n",
    "            user_visits[[current_user_id]] <- unique(current_user_ids)\n",
    "            current_user_ids <- NULL\n",
    "        }\n",
    "        current_user_id <- as.integer(chunks[3])\n",
    "        \n",
    "    } else if (entry_type==\"V\") {\n",
    "        page_id <- as.integer(chunks[2])\n",
    "        if (length(current_user_ids) > 0) {\n",
    "            current_user_ids <- c(current_user_ids, page_id)\n",
    "        } else { current_user_ids <- page_id}\n",
    "        \n",
    "        if (is.null(page_visits[[as.character(page_id)]])) {\n",
    "            page_visits[[as.character(page_id)]] <- current_user_id\n",
    "        } else {\n",
    "            page_visits[[as.character(page_id)]] <- c(page_visits[as.character(page_id)], current_user_id)\n",
    "        }\n",
    "    }\n",
    "    \n",
    "}"
   ]
  },
  {
   "cell_type": "code",
   "execution_count": 5,
   "metadata": {},
   "outputs": [
    {
     "name": "stdout",
     "output_type": "stream",
     "text": [
      "[1] \"Total Number of Attributes: 294\"\n",
      "[1] \"Total Number of Users: 32710\"\n",
      "[1] \"Total Number of VRoots: 285\"\n"
     ]
    }
   ],
   "source": [
    "print(paste('Total Number of Attributes:', length(Filter(Negate(is.null), log_attributes))))\n",
    "print(paste('Total Number of Users:', length(Filter(Negate(is.null), user_visits))))\n",
    "print(paste('Total Number of VRoots:', length(Filter(Negate(is.null), page_visits))))"
   ]
  },
  {
   "cell_type": "code",
   "execution_count": 6,
   "metadata": {},
   "outputs": [
    {
     "name": "stdout",
     "output_type": "stream",
     "text": [
      "1000\t\tregwiz\t\t/regwiz \n",
      "1001\t\tSupport Desktop\t\t/support \n",
      "1002\t\tEnd User Produced View\t\t/athome \n",
      "1003\t\tKnowledge Base\t\t/kb \n",
      "1004\t\tMicrosoft.com Search\t\t/search \n",
      "1005\t\tNorway\t\t/norge \n",
      "1006\t\tmisc\t\t/misc \n",
      "1007\t\tInternational IE content\t\t/ie_intl \n",
      "1008\t\tFree Downloads\t\t/msdownload \n",
      "1009\t\tWindows Family of OSs\t\t/windows \n",
      "1010\t\tVisual Basic\t\t/vbasic \n",
      "1011\t\tMS Office Development\t\t/officedev \n",
      "1012\t\tOutlook Development\t\t/outlookdev \n",
      "1013\t\tVisual Basic Support\t\t/vbasicsupport \n",
      "1014\t\tOffice Free Stuff\t\t/officefreestuff \n",
      "1015\t\tExcel\t\t/msexcel \n",
      "1016\t\tMS Excel\t\t/excel \n",
      "1017\t\tProducts \t\t/products \n",
      "1018\t\tisapi\t\t/isapi \n",
      "1019\t\tMS PowerPoint\t\t/mspowerpoint \n",
      "1020\t\tDeveloper Network\t\t/msdn \n",
      "1021\t\tVisual C\t\t/visualc \n",
      "1022\t\tTypography Site\t\t/truetype \n",
      "1023\t\tSpain\t\t/spain \n",
      "1024\t\tInternet Information Server\t\t/iis \n",
      "1025\t\tWeb Site Builder's Gallery\t\t/gallery \n",
      "1026\t\tInternet Site Construction for Developers\t\t/sitebuilder \n",
      "1027\t\tInternet Development\t\t/intdev \n",
      "1028\t\tOLE Development\t\t/oledev \n",
      "1029\t\tClip Gallery Live\t\t/clipgallerylive \n",
      "1030\t\tWindows NT Server\t\t/ntserver \n",
      "1031\t\tMS Office\t\t/msoffice \n",
      "1032\t\tGames\t\t/games \n",
      "1033\t\tMS Store Logo Merchandise\t\t/logostore \n",
      "1034\t\tInternet Explorer\t\t/ie \n",
      "1035\t\tWindows95 Support\t\t/windowssupport \n",
      "1036\t\tCorporate Desktop Evaluation\t\t/organizations \n",
      "1037\t\tWindows 95\t\t/windows95 \n",
      "1038\t\tSiteBuilder Network Membership\t\t/sbnmember \n",
      "1039\t\tInternet Service Providers\t\t/isp \n",
      "1040\t\tMS Office Info\t\t/office \n",
      "1041\t\tDeveloper Workshop\t\t/workshop \n",
      "1042\t\tVisual Studio\t\t/vstudio \n",
      "1043\t\tConnecting Small Business\t\t/smallbiz \n",
      "1044\t\tDeveloper Media Development\t\t/mediadev \n",
      "1045\t\tNetMeeting\t\t/netmeeting \n",
      "1046\t\tIE Support\t\t/iesupport \n",
      "1048\t\tMS Publisher\t\t/publisher \n",
      "1049\t\tSupport Network Program Information\t\t/supportnet \n",
      "1050\t\tMacintosh Office\t\t/macoffice \n",
      "1051\t\tMS Schedule+ News\t\t/scheduleplus \n",
      "1052\t\tMS Word News\t\t/word \n",
      "1053\t\tJakarta\t\t/visualj \n",
      "1054\t\tExchange\t\t/exchange \n",
      "1055\t\tMSHome Kids Stuff\t\t/kids \n",
      "1056\t\tsports\t\t/sports \n",
      "1057\t\tMS PowerPoint News\t\t/powerpoint \n",
      "1058\t\tSP Referral (ART)\t\t/referral \n",
      "1059\t\tSweden\t\t/sverige \n",
      "1060\t\tMS Word\t\t/msword \n",
      "1061\t\tpromo\t\t/promo \n",
      "1062\t\tMS Access News\t\t/msaccess \n",
      "1063\t\tIntranet Strategy\t\t/intranet \n",
      "1064\t\tMS Site Builder Workshop\t\t/activeplatform \n",
      "1065\t\tJava Strategy and Info\t\t/java \n",
      "1066\t\tMusic Producer\t\t/musicproducer \n",
      "1067\t\tFrontPage\t\t/frontpage \n",
      "1068\t\tVBScript Development\t\t/vbscript \n",
      "1069\t\tWindows CE\t\t/windowsce \n",
      "1070\t\tActiveX Technology Development\t\t/activex \n",
      "1071\t\tN. American Automap\t\t/automap \n",
      "1072\t\tVisual InterDev\t\t/vinterdev \n",
      "1073\t\tTaiwan\t\t/taiwan \n",
      "1074\t\tWindows NT Workstation\t\t/ntworkstation \n",
      "1075\t\tJob Openings\t\t/jobs \n",
      "1076\t\tNT Workstation Support\t\t/ntwkssupport \n",
      "1077\t\tMS Office Support\t\t/msofficesupport \n",
      "1078\t\tNT Server Support\t\t/ntserversupport \n",
      "1079\t\tAustralia\t\t/australia \n",
      "1080\t\tBrazil\t\t/brasil \n",
      "1081\t\tAccess Development\t\t/accessdev \n",
      "1082\t\tMS Access\t\t/access \n",
      "1083\t\tMS Access Support\t\t/msaccesssupport \n",
      "1084\t\tUK\t\t/uk \n",
      "1085\t\tExchange Support\t\t/exchangesupport \n",
      "1086\t\tOEM\t\t/oem \n",
      "1087\t\tMS Proxy Server\t\t/proxy \n",
      "1088\t\tOutLook\t\t/outlook \n",
      "1089\t\tOffice Reference\t\t/officereference \n",
      "1090\t\tGames Support\t\t/gamessupport \n",
      "1091\t\tWindows Hardware Development\t\t/hwdev \n",
      "1092\t\tVisual FoxPro\t\t/vfoxpro \n",
      "1093\t\tVBA Development\t\t/vba \n",
      "1094\t\tMicrosoft Home\t\t/mshome \n",
      "1095\t\tProduct Catalog\t\t/catalog \n",
      "1096\t\tMicrosoft Press\t\t/mspress \n",
      "1097\t\tLatin America Region\t\t/latam \n",
      "1098\t\tFor Developers Only\t\t/devonly \n",
      "1099\t\tExecutive Computing\t\t/cio \n",
      "1100\t\tMS in Education\t\t/education \n",
      "1101\t\tMicrosoft OLE DB\t\t/oledb \n",
      "1102\t\tMicrosoft Home Essentials\t\t/homeessentials \n",
      "1103\t\tMS Works\t\t/works \n",
      "1104\t\tHong Kong\t\t/hk \n",
      "1105\t\tFrance\t\t/france \n",
      "1106\t\tCzech Republic\t\t/cze \n",
      "1107\t\tSlovakia\t\t/slovakia \n",
      "1108\t\tMS TeamManager\t\t/teammanager \n",
      "1109\t\tTechNet (World Wide Web Edition)\t\t/technet \n",
      "1110\t\tMastering Series\t\t/mastering \n",
      "1111\t\tVisual Source Safe\t\t/ssafe \n",
      "1112\t\tCanada\t\t/canada \n",
      "1113\t\tInternet Security Framework\t\t/security \n",
      "1114\t\tService Advantage\t\t/servad \n",
      "1115\t\tHungary\t\t/hun \n",
      "1116\t\tSwitzerland\t\t/switzerland \n",
      "1117\t\tSidewinder\t\t/sidewinder \n",
      "1118\t\tSQL Server\t\t/sql \n",
      "1119\t\tCorporation Information\t\t/corpinfo \n",
      "1120\t\tSwitching from Competitive Products\t\t/switch \n",
      "1121\t\tMicrosoft Magazine\t\t/magazine \n",
      "1122\t\tMicrosoft User Group Program\t\t/mindshare \n",
      "1123\t\tGermany\t\t/germany \n",
      "1124\t\tIndustry Marketing Information (Vertical)\t\t/industry \n",
      "1125\t\tImageComposer\t\t/imagecomposer \n",
      "1126\t\tMedia Manager\t\t/mediamanager \n",
      "1127\t\tNetShow\t\t/netshow \n",
      "1128\t\tMS Solutions Framework\t\t/msf \n",
      "1129\t\tActiveX Data Objects\t\t/ado \n",
      "1130\t\tIT Technical Information\t\t/syspro \n",
      "1131\t\tMS Money Information\t\t/moneyzone \n",
      "1132\t\tMS Money Support\t\t/msmoneysupport \n",
      "1133\t\tFrontPage Support\t\t/frontpagesupport \n",
      "1134\t\tBackOffice\t\t/backoffice \n",
      "1135\t\tMS Word Support\t\t/mswordsupport \n",
      "1136\t\tWorldWide Offices - US Districts\t\t/usa \n",
      "1137\t\tAbout Microsoft \t\t/mscorp \n",
      "1138\t\tDeveloper Magazine\t\t/mind \n",
      "1139\t\tMS in K-12 Education\t\t/k-12 \n",
      "1140\t\tNetherlands (Holland)\t\t/netherlands \n",
      "1141\t\tEurope\t\t/europe \n",
      "1142\t\tSouth Africa\t\t/southafrica \n",
      "1143\t\tSite Builder Workshop\t\t/workshoop \n",
      "1144\t\tFor Developers Only News\t\t/devnews \n",
      "1145\t\tVisual Fox Pro Support\t\t/vfoxprosupport \n",
      "1146\t\tMicrosoft Solution Providers\t\t/msp \n",
      "1147\t\tMicrosoft Financial Forum\t\t/msft \n",
      "1148\t\tChannel Resources\t\t/channel_resources \n",
      "1149\t\tAdvanced Data Connector\t\t/adc \n",
      "1150\t\tInternet Information Server News\t\t/infoserv \n",
      "1151\t\tMS PowerPoint Support\t\t/mspowerpointsupport \n",
      "1152\t\tRussia\t\t/rus \n",
      "1153\t\tVenezuela\t\t/venezuela \n",
      "1154\t\tMS Project\t\t/project \n",
      "1155\t\tSidewalk\t\t/sidewalk \n",
      "1156\t\tPowered by BackOffice\t\t/powered \n",
      "1157\t\tWindows 32 bit developer\t\t/win32dev \n",
      "1158\t\tInteractive Media Technologies\t\t/imedia \n",
      "1159\t\tTransaction Server\t\t/transaction \n",
      "1160\t\tVisual C Support\t\t/visualcsupport \n",
      "1161\t\tWorks Support\t\t/workssupport \n",
      "1162\t\tIIS Support\t\t/infoservsupport \n",
      "1163\t\tOpen Type\t\t/opentype \n",
      "1164\t\tSystems Management Server\t\t/smsmgmt \n",
      "1165\t\tPoland\t\t/poland \n",
      "1166\t\tMexico\t\t/mexico \n",
      "1167\t\tWindows Hardware Testing\t\t/hwtest \n",
      "1168\t\tSales Information (infobase)\t\t/salesinfo \n",
      "1169\t\tMS Project\t\t/msproject \n",
      "1170\t\tMicrosoft Mail\t\t/mail \n",
      "1171\t\tMS Merchant\t\t/merchant \n",
      "1172\t\tBelgium\t\t/belgium \n",
      "1173\t\tMicrosoft OnLine Institute\t\t/moli \n",
      "1174\t\tNew Zealand\t\t/nz \n",
      "1175\t\tMS Project Support\t\t/msprojectsupport \n",
      "1176\t\tJava Script Development\t\t/jscript \n",
      "1177\t\tMaster Marketing Calendar\t\t/events \n",
      "1178\t\tmsdownload.\t\t/msdownload. \n",
      "1179\t\tColombia\t\t/colombia \n",
      "1180\t\tSlovenija\t\t/slovenija \n",
      "1181\t\tKids Support\t\t/kidssupport \n",
      "1182\t\tFortran\t\t/fortran \n",
      "1183\t\tItaly\t\t/italy \n",
      "1184\t\tMS Excel Support\t\t/msexcelsupport \n",
      "1185\t\tSNA Server\t\t/sna \n",
      "1186\t\tJob Listings for Pre-Grads\t\t/college \n",
      "1187\t\tODBC Development\t\t/odbc \n",
      "1188\t\tKorea\t\t/korea \n",
      "1189\t\tInternet News\t\t/internet \n",
      "1190\t\tRepository\t\t/repository \n",
      "1191\t\tManagement\t\t/management \n",
      "1192\t\tVisual J++ Support\t\t/visualjsupport \n",
      "1193\t\tOffice Developer Support\t\t/offdevsupport \n",
      "1194\t\tChina\t\t/china \n",
      "1195\t\tPortugal\t\t/portugal \n",
      "1196\t\tie40\t\t/ie40 \n",
      "1197\t\tSQL Support\t\t/sqlsupport \n",
      "1198\t\tPicture It\t\t/pictureit \n",
      "1199\t\tfeedback\t\t/feedback \n",
      "1200\t\tBenelux Region\t\t/benelux \n",
      "1201\t\tMS Hardware\t\t/hardware \n",
      "1202\t\tAdvanced Technology\t\t/advtech \n",
      "1203\t\tDenmark\t\t/danmark \n",
      "1204\t\tMS Schedule+\t\t/msscheduleplus \n",
      "1205\t\tHardware Supprt\t\t/hardwaresupport \n",
      "1206\t\tVolume Purchasing Options\t\t/select \n",
      "1207\t\tInternet Control Pack \t\t/icp \n",
      "1208\t\tIsrael\t\t/israel \n",
      "1209\t\tTurkey\t\t/turkey \n",
      "1210\t\tSNA Support\t\t/snasupport \n",
      "1211\t\tSMSMGT Support\t\t/smsmgmtsupport \n",
      "1212\t\tWorld Wide Offices\t\t/worldwide \n",
      "1213\t\tCorporate Customers\t\t/corporate_solutions \n",
      "1214\t\tMS Financial Services\t\t/finserv \n",
      "1215\t\tFor Developers Only Info\t\t/developer \n",
      "1216\t\tVirtual Reality Markup Language\t\t/vrml \n",
      "1217\t\tIreland\t\t/ireland \n",
      "1218\t\tMS Publisher Support\t\t/publishersupport \n",
      "1219\t\tCorporate Advertising Content\t\t/ads \n",
      "1220\t\tMac Office Support\t\t/macofficesupport \n",
      "1221\t\tMicrosoft TV Program Information\t\t/mstv \n",
      "1222\t\tMS Office News\t\t/msofc \n",
      "1223\t\tFinland\t\t/finland \n",
      "1224\t\tAuthorized Technical Education Center Program\t\t/atec \n",
      "1225\t\tAnti Piracy Information\t\t/piracy \n",
      "1226\t\tMS Schedule+ Support\t\t/msschedplussupport \n",
      "1227\t\tArgentina\t\t/argentina \n",
      "1228\t\tVisual Test\t\t/vtest \n",
      "1229\t\tUruguay\t\t/uruguay \n",
      "1230\t\tMail Support\t\t/mailsupport \n",
      "1231\t\tWindows NT Developer Support\t\t/win32devsupport \n",
      "1232\t\tSiteBuilder Network Specs & Standards\t\t/standards \n",
      "1233\t\tvbscripts\t\t/vbscripts \n",
      "1234\t\tOffice Free Stuff News\t\t/off97cat \n",
      "1235\t\tMS Training Evaluation\t\t/onlineeval \n",
      "1236\t\tDeveloping for Global Markets\t\t/globaldev \n",
      "1237\t\tDeveloper Days\t\t/devdays \n",
      "1238\t\tExcel Development\t\t/exceldev \n",
      "1239\t\tMicrosoft Consulting\t\t/msconsult \n",
      "1240\t\tThailand\t\t/thailand \n",
      "1241\t\tIndia\t\t/india \n",
      "1242\t\tMS Garden\t\t/msgarden \n",
      "1243\t\tMS Usability Group\t\t/usability \n",
      "1244\t\tDeveloper Newswire\t\t/devwire \n",
      "1245\t\tOpen Financial Connectivity\t\t/ofc \n",
      "1246\t\tDeveloper Media Games\t\t/gamesdev \n",
      "1247\t\tWine Guide\t\t/wineguide \n",
      "1248\t\tSoftimage \t\t/softimage \n",
      "1249\t\tFortran Support\t\t/fortransupport \n",
      "1250\t\tMiddle East\t\t/middleeast \n",
      "1251\t\tReference Support\t\t/referencesupport \n",
      "1252\t\tCommunity Affairs\t\t/giving \n",
      "1253\t\tMS Word Development\t\t/worddev \n",
      "1254\t\tie3\t\t/ie3 \n",
      "1255\t\tMessage Queue Server\t\t/msmq \n",
      "1256\t\tSolutions in Action\t\t/sia \n",
      "1257\t\tProfessional Developers Series\t\t/devvideos \n",
      "1258\t\tPeru\t\t/peru \n",
      "1259\t\tcontrols\t\t/controls \n",
      "1260\t\tExchange Trial\t\t/trial \n",
      "1261\t\tMS's Complete Do It Yourself Guide\t\t/diyguide \n",
      "1262\t\tChile\t\t/chile \n",
      "1263\t\tEducational Services & Programs\t\t/services \n",
      "1264\t\tMS Partner Web\t\t/se_partners \n",
      "1265\t\tSource Safe Support\t\t/ssafesupport \n",
      "1266\t\tLicenses and Piracy\t\t/licenses \n",
      "1267\t\tCaribbean\t\t/caribbean \n",
      "1268\t\tjavascript\t\t/javascript \n",
      "1269\t\tCustomer Guides\t\t/business \n",
      "1270\t\tdevelopr\t\t/developr \n",
      "1271\t\tmdsn\t\t/mdsn \n",
      "1272\t\tsoftlib\t\t/softlib \n",
      "1273\t\tmdn\t\t/mdn \n",
      "1274\t\tProfessional Developer Conference\t\t/pdc \n",
      "1275\t\tsecurity.\t\t/security. \n",
      "1276\t\tVisual Test Support\t\t/vtestsupport \n",
      "1277\t\tNetShow for PowerPoint\t\t/stream \n",
      "1278\t\tMS in Higer Education\t\t/hed \n",
      "1279\t\tMultimedia Golf\t\t/msgolf \n",
      "1280\t\tMS Interactive Music Control\t\t/music \n",
      "1281\t\tIntelliMouse\t\t/intellimouse \n",
      "1282\t\thome\t\t/home \n",
      "1283\t\tCinemainia\t\t/cinemania \n",
      "1284\t\tpartner\t\t/partner \n",
      "1287\t\tInternational AutoRoute\t\t/autoroute \n",
      "1288\t\tlibrary\t\t/library \n",
      "1289\t\tMaster Chef Product Information\t\t/masterchef \n",
      "1290\t\tActivate the Internet Conference\t\t/devmovies \n",
      "1291\t\tnews\t\t/news \n",
      "1292\t\tMS North Africa\t\t/northafrica \n",
      "1293\t\tEncarta\t\t/encarta \n",
      "1294\t\tBookshelf\t\t/bookshelf \n",
      "1295\t\tTraining\t\t/train_cert \n",
      "1297\t\tCentral America\t\t/centroam \n"
     ]
    }
   ],
   "source": [
    "for (log in log_attributes) {\n",
    "    if (!(is.null(log))) {\n",
    "        cat(paste(log@id, log@description, log@url, sep=\"\\t\\t\"), \"\\n\")\n",
    "    }\n",
    "}"
   ]
  },
  {
   "cell_type": "markdown",
   "metadata": {},
   "source": [
    "### Obtaining statistics"
   ]
  },
  {
   "cell_type": "code",
   "execution_count": 7,
   "metadata": {},
   "outputs": [
    {
     "name": "stdout",
     "output_type": "stream",
     "text": [
      "[1] \"Number of user visits: 98653\"\n",
      "[1] \"Average number of visits: 3.01598899419138\"\n",
      "[1] \"Users with just one visit: 9994\"\n"
     ]
    }
   ],
   "source": [
    "nbr_visits <- sum(sapply(Filter(Negate(is.null), user_visits), length))\n",
    "average_visits <- nbr_visits / length(Filter(Negate(is.null), user_visits))\n",
    "one_visit <- sum(sapply(Filter(Negate(is.null), user_visits), length)==1)\n",
    "\n",
    "print(paste(\"Number of user visits:\", nbr_visits))\n",
    "print(paste(\"Average number of visits:\", average_visits))\n",
    "print(paste(\"Users with just one visit:\", one_visit))"
   ]
  },
  {
   "cell_type": "markdown",
   "metadata": {},
   "source": [
    "## Encountering the limits of rating data"
   ]
  },
  {
   "cell_type": "markdown",
   "metadata": {},
   "source": [
    "### Obtaining the data"
   ]
  },
  {
   "cell_type": "code",
   "execution_count": 8,
   "metadata": {},
   "outputs": [],
   "source": [
    "url <- \"http://files.grouplens.org/datasets/movielens/ml-20m.zip\"\n",
    "destfile <- \"ml-20m.zip\""
   ]
  },
  {
   "cell_type": "code",
   "execution_count": 9,
   "metadata": {},
   "outputs": [],
   "source": [
    "download.file(url, destfile, mode =  \"wb\")"
   ]
  },
  {
   "cell_type": "code",
   "execution_count": 10,
   "metadata": {},
   "outputs": [
    {
     "data": {
      "text/html": [
       "<table class=\"dataframe\">\n",
       "<caption>A data.frame: 8 × 3</caption>\n",
       "<thead>\n",
       "\t<tr><th scope=col>Name</th><th scope=col>Length</th><th scope=col>Date</th></tr>\n",
       "\t<tr><th scope=col>&lt;chr&gt;</th><th scope=col>&lt;dbl&gt;</th><th scope=col>&lt;dttm&gt;</th></tr>\n",
       "</thead>\n",
       "<tbody>\n",
       "\t<tr><td>ml-20m/                 </td><td>        0</td><td>2016-10-17 10:12:00</td></tr>\n",
       "\t<tr><td>ml-20m/genome-scores.csv</td><td>323544381</td><td>2016-10-17 09:41:00</td></tr>\n",
       "\t<tr><td>ml-20m/genome-tags.csv  </td><td>    18103</td><td>2016-10-17 09:41:00</td></tr>\n",
       "\t<tr><td>ml-20m/links.csv        </td><td>   570090</td><td>2016-10-17 09:50:00</td></tr>\n",
       "\t<tr><td>ml-20m/movies.csv       </td><td>  1397542</td><td>2015-03-31 16:17:00</td></tr>\n",
       "\t<tr><td>ml-20m/ratings.csv      </td><td>533444411</td><td>2015-03-31 16:14:00</td></tr>\n",
       "\t<tr><td>ml-20m/README.txt       </td><td>    10261</td><td>2016-10-17 10:21:00</td></tr>\n",
       "\t<tr><td>ml-20m/tags.csv         </td><td> 16603996</td><td>2015-03-31 16:01:00</td></tr>\n",
       "</tbody>\n",
       "</table>\n"
      ],
      "text/latex": [
       "A data.frame: 8 × 3\n",
       "\\begin{tabular}{lll}\n",
       " Name & Length & Date\\\\\n",
       " <chr> & <dbl> & <dttm>\\\\\n",
       "\\hline\n",
       "\t ml-20m/                  &         0 & 2016-10-17 10:12:00\\\\\n",
       "\t ml-20m/genome-scores.csv & 323544381 & 2016-10-17 09:41:00\\\\\n",
       "\t ml-20m/genome-tags.csv   &     18103 & 2016-10-17 09:41:00\\\\\n",
       "\t ml-20m/links.csv         &    570090 & 2016-10-17 09:50:00\\\\\n",
       "\t ml-20m/movies.csv        &   1397542 & 2015-03-31 16:17:00\\\\\n",
       "\t ml-20m/ratings.csv       & 533444411 & 2015-03-31 16:14:00\\\\\n",
       "\t ml-20m/README.txt        &     10261 & 2016-10-17 10:21:00\\\\\n",
       "\t ml-20m/tags.csv          &  16603996 & 2015-03-31 16:01:00\\\\\n",
       "\\end{tabular}\n"
      ],
      "text/markdown": [
       "\n",
       "A data.frame: 8 × 3\n",
       "\n",
       "| Name &lt;chr&gt; | Length &lt;dbl&gt; | Date &lt;dttm&gt; |\n",
       "|---|---|---|\n",
       "| ml-20m/                  |         0 | 2016-10-17 10:12:00 |\n",
       "| ml-20m/genome-scores.csv | 323544381 | 2016-10-17 09:41:00 |\n",
       "| ml-20m/genome-tags.csv   |     18103 | 2016-10-17 09:41:00 |\n",
       "| ml-20m/links.csv         |    570090 | 2016-10-17 09:50:00 |\n",
       "| ml-20m/movies.csv        |   1397542 | 2015-03-31 16:17:00 |\n",
       "| ml-20m/ratings.csv       | 533444411 | 2015-03-31 16:14:00 |\n",
       "| ml-20m/README.txt        |     10261 | 2016-10-17 10:21:00 |\n",
       "| ml-20m/tags.csv          |  16603996 | 2015-03-31 16:01:00 |\n",
       "\n"
      ],
      "text/plain": [
       "  Name                     Length    Date               \n",
       "1 ml-20m/                          0 2016-10-17 10:12:00\n",
       "2 ml-20m/genome-scores.csv 323544381 2016-10-17 09:41:00\n",
       "3 ml-20m/genome-tags.csv       18103 2016-10-17 09:41:00\n",
       "4 ml-20m/links.csv            570090 2016-10-17 09:50:00\n",
       "5 ml-20m/movies.csv          1397542 2015-03-31 16:17:00\n",
       "6 ml-20m/ratings.csv       533444411 2015-03-31 16:14:00\n",
       "7 ml-20m/README.txt            10261 2016-10-17 10:21:00\n",
       "8 ml-20m/tags.csv           16603996 2015-03-31 16:01:00"
      ]
     },
     "metadata": {},
     "output_type": "display_data"
    }
   ],
   "source": [
    "unzip(destfile, list = T)\n",
    "unzip(destfile)"
   ]
  },
  {
   "cell_type": "markdown",
   "metadata": {},
   "source": [
    "Reading these files into memory can take a long time. Please be patient."
   ]
  },
  {
   "cell_type": "code",
   "execution_count": 11,
   "metadata": {},
   "outputs": [],
   "source": [
    "ratings <- read.csv(\"ml-20m/ratings.csv\")\n",
    "movies  <- read.csv(\"ml-20m/movies.csv\")"
   ]
  },
  {
   "cell_type": "markdown",
   "metadata": {},
   "source": [
    "With respect to the Python example, we have to sub-sample the ratings data because of R memory limitations."
   ]
  },
  {
   "cell_type": "code",
   "execution_count": null,
   "metadata": {},
   "outputs": [],
   "source": [
    "# sampling for memory efficiency\n",
    "\n",
    "set.seed(0)\n",
    "sample_size <- floor(0.10 * dim(ratings)[1])\n",
    "train_idx <- sample(seq_len(dim(ratings)[1]), size = sample_size)"
   ]
  },
  {
   "cell_type": "code",
   "execution_count": null,
   "metadata": {},
   "outputs": [],
   "source": [
    "ratings <- ratings[train_idx,]"
   ]
  },
  {
   "cell_type": "code",
   "execution_count": null,
   "metadata": {},
   "outputs": [],
   "source": [
    "movie_data <- merge(ratings, movies, by=\"movieId\")"
   ]
  },
  {
   "cell_type": "code",
   "execution_count": null,
   "metadata": {},
   "outputs": [],
   "source": [
    "head(movie_data)"
   ]
  },
  {
   "cell_type": "code",
   "execution_count": null,
   "metadata": {},
   "outputs": [],
   "source": [
    "mean_ratings <- aggregate(movie_data$rating, list(movie_data$title), mean)"
   ]
  },
  {
   "cell_type": "code",
   "execution_count": 17,
   "metadata": {},
   "outputs": [
    {
     "data": {
      "text/html": [
       "<table>\n",
       "<caption>A data.frame: 6 × 2</caption>\n",
       "<thead>\n",
       "\t<tr><th scope=col>Group.1</th><th scope=col>x</th></tr>\n",
       "\t<tr><th scope=col>&lt;fct&gt;</th><th scope=col>&lt;dbl&gt;</th></tr>\n",
       "</thead>\n",
       "<tbody>\n",
       "\t<tr><td>'71 (2014)                             </td><td>3.666667</td></tr>\n",
       "\t<tr><td>'burbs, The (1989)                     </td><td>3.078864</td></tr>\n",
       "\t<tr><td>'Hellboy': The Seeds of Creation (2004)</td><td>3.038462</td></tr>\n",
       "\t<tr><td>'Neath the Arizona Skies (1934)        </td><td>3.833333</td></tr>\n",
       "\t<tr><td>'night Mother (1986)                   </td><td>3.604651</td></tr>\n",
       "\t<tr><td>'R Xmas (2001)                         </td><td>3.500000</td></tr>\n",
       "</tbody>\n",
       "</table>\n"
      ],
      "text/latex": [
       "A data.frame: 6 × 2\n",
       "\\begin{tabular}{r|ll}\n",
       " Group.1 & x\\\\\n",
       " <fct> & <dbl>\\\\\n",
       "\\hline\n",
       "\t '71 (2014)                              & 3.666667\\\\\n",
       "\t 'burbs, The (1989)                      & 3.078864\\\\\n",
       "\t 'Hellboy': The Seeds of Creation (2004) & 3.038462\\\\\n",
       "\t 'Neath the Arizona Skies (1934)         & 3.833333\\\\\n",
       "\t 'night Mother (1986)                    & 3.604651\\\\\n",
       "\t 'R Xmas (2001)                          & 3.500000\\\\\n",
       "\\end{tabular}\n"
      ],
      "text/markdown": [
       "\n",
       "A data.frame: 6 × 2\n",
       "\n",
       "| Group.1 &lt;fct&gt; | x &lt;dbl&gt; |\n",
       "|---|---|\n",
       "| '71 (2014)                              | 3.666667 |\n",
       "| 'burbs, The (1989)                      | 3.078864 |\n",
       "| 'Hellboy': The Seeds of Creation (2004) | 3.038462 |\n",
       "| 'Neath the Arizona Skies (1934)         | 3.833333 |\n",
       "| 'night Mother (1986)                    | 3.604651 |\n",
       "| 'R Xmas (2001)                          | 3.500000 |\n",
       "\n"
      ],
      "text/plain": [
       "  Group.1                                 x       \n",
       "1 '71 (2014)                              3.666667\n",
       "2 'burbs, The (1989)                      3.078864\n",
       "3 'Hellboy': The Seeds of Creation (2004) 3.038462\n",
       "4 'Neath the Arizona Skies (1934)         3.833333\n",
       "5 'night Mother (1986)                    3.604651\n",
       "6 'R Xmas (2001)                          3.500000"
      ]
     },
     "metadata": {},
     "output_type": "display_data"
    }
   ],
   "source": [
    "head(mean_ratings)"
   ]
  },
  {
   "cell_type": "markdown",
   "metadata": {},
   "source": [
    "### Cleaning up"
   ]
  },
  {
   "cell_type": "code",
   "execution_count": 18,
   "metadata": {},
   "outputs": [],
   "source": [
    "remove(ratings)\n",
    "remove(movies)"
   ]
  },
  {
   "cell_type": "code",
   "execution_count": 19,
   "metadata": {},
   "outputs": [
    {
     "data": {
      "text/html": [
       "TRUE"
      ],
      "text/latex": [
       "TRUE"
      ],
      "text/markdown": [
       "TRUE"
      ],
      "text/plain": [
       "[1] TRUE"
      ]
     },
     "metadata": {},
     "output_type": "display_data"
    }
   ],
   "source": [
    "file.remove(\"./ml-20m.zip\")"
   ]
  },
  {
   "cell_type": "code",
   "execution_count": 20,
   "metadata": {},
   "outputs": [],
   "source": [
    "unlink(\"./ml-20m\", recursive=TRUE)"
   ]
  },
  {
   "cell_type": "markdown",
   "metadata": {},
   "source": [
    "### Massaging the data\n"
   ]
  },
  {
   "cell_type": "code",
   "execution_count": 21,
   "metadata": {},
   "outputs": [],
   "source": [
    "reduced_movie <- movie_data[movie_data['rating']>=3.0,]"
   ]
  },
  {
   "cell_type": "code",
   "execution_count": 22,
   "metadata": {},
   "outputs": [],
   "source": [
    "reduced_movie <- reduced_movie[,c(\"userId\", \"rating\", \"title\")]"
   ]
  },
  {
   "cell_type": "code",
   "execution_count": 23,
   "metadata": {},
   "outputs": [
    {
     "data": {
      "text/html": [
       "<table>\n",
       "<caption>A data.frame: 6 × 3</caption>\n",
       "<thead>\n",
       "\t<tr><th scope=col>userId</th><th scope=col>rating</th><th scope=col>title</th></tr>\n",
       "\t<tr><th scope=col>&lt;int&gt;</th><th scope=col>&lt;dbl&gt;</th><th scope=col>&lt;fct&gt;</th></tr>\n",
       "</thead>\n",
       "<tbody>\n",
       "\t<tr><td> 86152</td><td>4.5</td><td>Toy Story (1995)</td></tr>\n",
       "\t<tr><td> 71326</td><td>3.5</td><td>Toy Story (1995)</td></tr>\n",
       "\t<tr><td>123729</td><td>4.0</td><td>Toy Story (1995)</td></tr>\n",
       "\t<tr><td> 11333</td><td>3.5</td><td>Toy Story (1995)</td></tr>\n",
       "\t<tr><td> 85797</td><td>4.0</td><td>Toy Story (1995)</td></tr>\n",
       "\t<tr><td> 87568</td><td>5.0</td><td>Toy Story (1995)</td></tr>\n",
       "</tbody>\n",
       "</table>\n"
      ],
      "text/latex": [
       "A data.frame: 6 × 3\n",
       "\\begin{tabular}{r|lll}\n",
       " userId & rating & title\\\\\n",
       " <int> & <dbl> & <fct>\\\\\n",
       "\\hline\n",
       "\t  86152 & 4.5 & Toy Story (1995)\\\\\n",
       "\t  71326 & 3.5 & Toy Story (1995)\\\\\n",
       "\t 123729 & 4.0 & Toy Story (1995)\\\\\n",
       "\t  11333 & 3.5 & Toy Story (1995)\\\\\n",
       "\t  85797 & 4.0 & Toy Story (1995)\\\\\n",
       "\t  87568 & 5.0 & Toy Story (1995)\\\\\n",
       "\\end{tabular}\n"
      ],
      "text/markdown": [
       "\n",
       "A data.frame: 6 × 3\n",
       "\n",
       "| userId &lt;int&gt; | rating &lt;dbl&gt; | title &lt;fct&gt; |\n",
       "|---|---|---|\n",
       "|  86152 | 4.5 | Toy Story (1995) |\n",
       "|  71326 | 3.5 | Toy Story (1995) |\n",
       "| 123729 | 4.0 | Toy Story (1995) |\n",
       "|  11333 | 3.5 | Toy Story (1995) |\n",
       "|  85797 | 4.0 | Toy Story (1995) |\n",
       "|  87568 | 5.0 | Toy Story (1995) |\n",
       "\n"
      ],
      "text/plain": [
       "  userId rating title           \n",
       "1  86152 4.5    Toy Story (1995)\n",
       "2  71326 3.5    Toy Story (1995)\n",
       "3 123729 4.0    Toy Story (1995)\n",
       "4  11333 3.5    Toy Story (1995)\n",
       "5  85797 4.0    Toy Story (1995)\n",
       "6  87568 5.0    Toy Story (1995)"
      ]
     },
     "metadata": {},
     "output_type": "display_data"
    }
   ],
   "source": [
    "head(reduced_movie)"
   ]
  },
  {
   "cell_type": "code",
   "execution_count": 24,
   "metadata": {},
   "outputs": [
    {
     "name": "stdout",
     "output_type": "stream",
     "text": [
      "[1] \"original shape: 2000026,6\"\n",
      "[1] \"reduced shape: 1649135,3\"\n"
     ]
    }
   ],
   "source": [
    "print(paste(\"original shape:\", paste(dim(movie_data), collapse=',')))\n",
    "print(paste(\"reduced shape:\", paste(dim(reduced_movie), collapse=',')))"
   ]
  },
  {
   "cell_type": "code",
   "execution_count": 25,
   "metadata": {},
   "outputs": [],
   "source": [
    "remove(movie_data)"
   ]
  },
  {
   "cell_type": "code",
   "execution_count": 26,
   "metadata": {},
   "outputs": [],
   "source": [
    "counts <- table(reduced_movie$title)"
   ]
  },
  {
   "cell_type": "code",
   "execution_count": 27,
   "metadata": {},
   "outputs": [
    {
     "data": {
      "text/plain": [
       "\n",
       "                  12 Angry Men (1957)          2001: A Space Odyssey (1968) \n",
       "                                 1270                                  2240 \n",
       "                 28 Days Later (2002)                     Abyss, The (1989) \n",
       "                                 1064                                  1572 \n",
       "    Ace Ventura: Pet Detective (1994) Ace Ventura: When Nature Calls (1995) \n",
       "                                 2599                                  1139 "
      ]
     },
     "metadata": {},
     "output_type": "display_data"
    }
   ],
   "source": [
    "cut_off <- 1000\n",
    "head(counts[counts > cut_off])"
   ]
  },
  {
   "cell_type": "code",
   "execution_count": 28,
   "metadata": {},
   "outputs": [],
   "source": [
    "selected_films <- names(counts[counts > cut_off])\n",
    "reduced_movie <- reduced_movie[reduced_movie$title %in% selected_films,]"
   ]
  },
  {
   "cell_type": "code",
   "execution_count": 29,
   "metadata": {},
   "outputs": [
    {
     "name": "stdout",
     "output_type": "stream",
     "text": [
      "[1] \"reduced shape: 701676,3\"\n"
     ]
    }
   ],
   "source": [
    "print(paste(\"reduced shape:\", paste(dim(reduced_movie), collapse=',')))"
   ]
  },
  {
   "cell_type": "markdown",
   "metadata": {},
   "source": [
    "### Performing collaborative filtering"
   ]
  },
  {
   "cell_type": "markdown",
   "metadata": {},
   "source": [
    "In R we appraoach the collaborative filtering in a different way. First we find all the people that has seen the film, retaining only their top votes (>=4). Then we collect all their other movies and obtain a mean average rating for them. Finally we report the highest other seen movies, thus providing a recommendation on the movies that people will most likely favor based on the people who have seen our target movie."
   ]
  },
  {
   "cell_type": "code",
   "execution_count": 30,
   "metadata": {},
   "outputs": [],
   "source": [
    "target_movie <- 'Pulp Fiction (1994)'"
   ]
  },
  {
   "cell_type": "code",
   "execution_count": 31,
   "metadata": {},
   "outputs": [],
   "source": [
    "seen_movie <- reduced_movie$title==target_movie\n",
    "movie_preference <- reduced_movie$rating >=4\n",
    "target_users <- reduced_movie$userId %in% unique(reduced_movie$userId[seen_movie&movie_preference])"
   ]
  },
  {
   "cell_type": "code",
   "execution_count": 32,
   "metadata": {},
   "outputs": [],
   "source": [
    "affine_items <- reduced_movie[target_users&(reduced_movie$title!=target_movie),]"
   ]
  },
  {
   "cell_type": "code",
   "execution_count": 33,
   "metadata": {},
   "outputs": [],
   "source": [
    "scoring <- aggregate(affine_items$rating, list(affine_items$title), mean)"
   ]
  },
  {
   "cell_type": "code",
   "execution_count": 34,
   "metadata": {},
   "outputs": [
    {
     "data": {
      "text/html": [
       "<table>\n",
       "<caption>A data.frame: 6 × 2</caption>\n",
       "<thead>\n",
       "\t<tr><th></th><th scope=col>Group.1</th><th scope=col>x</th></tr>\n",
       "\t<tr><th></th><th scope=col>&lt;fct&gt;</th><th scope=col>&lt;dbl&gt;</th></tr>\n",
       "</thead>\n",
       "<tbody>\n",
       "\t<tr><th scope=row>140</th><td>Godfather, The (1972)                                </td><td>4.537402</td></tr>\n",
       "\t<tr><th scope=row>344</th><td>Usual Suspects, The (1995)                           </td><td>4.513514</td></tr>\n",
       "\t<tr><th scope=row>21</th><td>Annie Hall (1977)                                    </td><td>4.475904</td></tr>\n",
       "\t<tr><th scope=row>282</th><td>Shawshank Redemption, The (1994)                     </td><td>4.464706</td></tr>\n",
       "\t<tr><th scope=row>16</th><td>Amelie (Fabuleux destin d'AmÃ©lie Poulain, Le) (2001)</td><td>4.459854</td></tr>\n",
       "\t<tr><th scope=row>274</th><td>Schindler's List (1993)                              </td><td>4.457192</td></tr>\n",
       "</tbody>\n",
       "</table>\n"
      ],
      "text/latex": [
       "A data.frame: 6 × 2\n",
       "\\begin{tabular}{r|ll}\n",
       "  & Group.1 & x\\\\\n",
       "  & <fct> & <dbl>\\\\\n",
       "\\hline\n",
       "\t140 & Godfather, The (1972)                                 & 4.537402\\\\\n",
       "\t344 & Usual Suspects, The (1995)                            & 4.513514\\\\\n",
       "\t21 & Annie Hall (1977)                                     & 4.475904\\\\\n",
       "\t282 & Shawshank Redemption, The (1994)                      & 4.464706\\\\\n",
       "\t16 & Amelie (Fabuleux destin d'AmÃ©lie Poulain, Le) (2001) & 4.459854\\\\\n",
       "\t274 & Schindler's List (1993)                               & 4.457192\\\\\n",
       "\\end{tabular}\n"
      ],
      "text/markdown": [
       "\n",
       "A data.frame: 6 × 2\n",
       "\n",
       "| <!--/--> | Group.1 &lt;fct&gt; | x &lt;dbl&gt; |\n",
       "|---|---|---|\n",
       "| 140 | Godfather, The (1972)                                 | 4.537402 |\n",
       "| 344 | Usual Suspects, The (1995)                            | 4.513514 |\n",
       "| 21 | Annie Hall (1977)                                     | 4.475904 |\n",
       "| 282 | Shawshank Redemption, The (1994)                      | 4.464706 |\n",
       "| 16 | Amelie (Fabuleux destin d'AmÃ©lie Poulain, Le) (2001) | 4.459854 |\n",
       "| 274 | Schindler's List (1993)                               | 4.457192 |\n",
       "\n"
      ],
      "text/plain": [
       "    Group.1                                               x       \n",
       "140 Godfather, The (1972)                                 4.537402\n",
       "344 Usual Suspects, The (1995)                            4.513514\n",
       "21  Annie Hall (1977)                                     4.475904\n",
       "282 Shawshank Redemption, The (1994)                      4.464706\n",
       "16  Amelie (Fabuleux destin d'AmÃ©lie Poulain, Le) (2001) 4.459854\n",
       "274 Schindler's List (1993)                               4.457192"
      ]
     },
     "metadata": {},
     "output_type": "display_data"
    }
   ],
   "source": [
    "head(scoring[order(-scoring$x),])"
   ]
  },
  {
   "cell_type": "code",
   "execution_count": null,
   "metadata": {},
   "outputs": [],
   "source": []
  }
 ],
 "metadata": {
  "kernelspec": {
   "display_name": "R",
   "language": "R",
   "name": "ir"
  },
  "language_info": {
   "codemirror_mode": "r",
   "file_extension": ".r",
   "mimetype": "text/x-r-source",
   "name": "R",
   "pygments_lexer": "r",
   "version": "4.2.0"
  }
 },
 "nbformat": 4,
 "nbformat_minor": 2
}
