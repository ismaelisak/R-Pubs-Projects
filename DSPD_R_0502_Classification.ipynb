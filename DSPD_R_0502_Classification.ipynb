{
 "cells": [
  {
   "cell_type": "markdown",
   "metadata": {},
   "source": [
    "# Distinguishing Traffic Signs"
   ]
  },
  {
   "cell_type": "markdown",
   "metadata": {},
   "source": [
    "## Preparing image data"
   ]
  },
  {
   "cell_type": "code",
   "execution_count": 1,
   "metadata": {},
   "outputs": [
    {
     "name": "stderr",
     "output_type": "stream",
     "text": [
      "Warning message in download.file(url = URL, destfile = \"GTSRB_Final_Training_Images.zip\", :\n",
      "“downloaded length 97599488 != reported length 276294756”\n",
      "Warning message in download.file(url = URL, destfile = \"GTSRB_Final_Training_Images.zip\", :\n",
      "“URL 'https://sid.erda.dk/public/archives/daaeac0d7ce1152aea9b61d9f1e19370/GTSRB_Final_Training_Images.zip': Timeout of 60 seconds was reached”\n"
     ]
    },
    {
     "ename": "ERROR",
     "evalue": "Error in download.file(url = URL, destfile = \"GTSRB_Final_Training_Images.zip\", : download from 'https://sid.erda.dk/public/archives/daaeac0d7ce1152aea9b61d9f1e19370/GTSRB_Final_Training_Images.zip' failed\n",
     "output_type": "error",
     "traceback": [
      "Error in download.file(url = URL, destfile = \"GTSRB_Final_Training_Images.zip\", : download from 'https://sid.erda.dk/public/archives/daaeac0d7ce1152aea9b61d9f1e19370/GTSRB_Final_Training_Images.zip' failed\nTraceback:\n",
      "1. download.file(url = URL, destfile = \"GTSRB_Final_Training_Images.zip\", \n .     mode = \"wb\")"
     ]
    }
   ],
   "source": [
    "URL <- \"https://sid.erda.dk/public/archives/daaeac0d7ce1152aea9b61d9f1e19370/GTSRB_Final_Training_Images.zip\"\n",
    "download.file(url = URL, destfile = \"GTSRB_Final_Training_Images.zip\", mode='wb')"
   ]
  },
  {
   "cell_type": "code",
   "execution_count": 2,
   "metadata": {},
   "outputs": [
    {
     "name": "stderr",
     "output_type": "stream",
     "text": [
      "Warning message in unzip(zipF, exdir = outDir):\n",
      "“error 1 in extracting from zip file”\n"
     ]
    }
   ],
   "source": [
    "library(utils)\n",
    "zipF<- \"GTSRB_Final_Training_Images.zip\"\n",
    "outDir<-\".\"\n",
    "unzip(zipF, exdir=outDir)"
   ]
  },
  {
   "cell_type": "code",
   "execution_count": 1,
   "metadata": {},
   "outputs": [],
   "source": [
    "images <- list.files(pattern = \"*.ppm$\", recursive = TRUE)"
   ]
  },
  {
   "cell_type": "code",
   "execution_count": 2,
   "metadata": {},
   "outputs": [],
   "source": [
    "set.seed(0)\n",
    "sample_size <- floor(0.67 * length(images))\n",
    "train_idx <- sample(seq_len(length(images)), size = sample_size)"
   ]
  },
  {
   "cell_type": "code",
   "execution_count": 3,
   "metadata": {},
   "outputs": [],
   "source": [
    "train_images <- images[train_idx]\n",
    "test_images <- images[-train_idx]"
   ]
  },
  {
   "cell_type": "code",
   "execution_count": 6,
   "metadata": {},
   "outputs": [],
   "source": [
    "dir.create(\"traffic_signs_train\")\n",
    "dir.create(\"traffic_signs_test\")"
   ]
  },
  {
   "cell_type": "code",
   "execution_count": 6,
   "metadata": {},
   "outputs": [],
   "source": [
    "cl_extract <- function(x) {\n",
    "    return(as.integer(strsplit(x, \"/\")[[1]][4]))\n",
    "}\n",
    "\n",
    "cl_train <- as.numeric(sapply(train_images, cl_extract))\n",
    "cl_test <- as.numeric(sapply(test_images, cl_extract))"
   ]
  },
  {
   "cell_type": "code",
   "execution_count": 7,
   "metadata": {},
   "outputs": [],
   "source": [
    "counts <- table(cl_train)\n",
    "weights <- as.list((sum(counts) - counts) / counts)"
   ]
  },
  {
   "cell_type": "code",
   "execution_count": 9,
   "metadata": {},
   "outputs": [],
   "source": [
    "for (u in unique(c(cl_train, cl_test))) {\n",
    "    dir.create(paste(\"traffic_signs_train/\", u))\n",
    "    dir.create(paste(\"traffic_signs_test/\", u))\n",
    "}"
   ]
  },
  {
   "cell_type": "code",
   "execution_count": 10,
   "metadata": {},
   "outputs": [],
   "source": [
    "for (f in 1:length(cl_train)) {\n",
    "    file.copy(train_images[f], paste(\"traffic_signs_train/\", cl_train[f]))\n",
    "}"
   ]
  },
  {
   "cell_type": "code",
   "execution_count": 11,
   "metadata": {},
   "outputs": [],
   "source": [
    "for (f in 1:length(cl_test)) {\n",
    "    file.copy(test_images[f], paste(\"traffic_signs_test/\", cl_test[f]))\n",
    "}"
   ]
  },
  {
   "cell_type": "code",
   "execution_count": 12,
   "metadata": {},
   "outputs": [],
   "source": [
    "unlink(\"./GTSRB\", recursive=TRUE)"
   ]
  },
  {
   "cell_type": "markdown",
   "metadata": {},
   "source": [
    "## Running a classification task"
   ]
  },
  {
   "cell_type": "code",
   "execution_count": 8,
   "metadata": {},
   "outputs": [],
   "source": [
    "if (!(\"keras\" %in% rownames(installed.packages()))) {\n",
    "    install.packages(\"devtools\")\n",
    "    devtools::install_github(\"rstudio/keras\")\n",
    "    reticulate::py_config()\n",
    "}"
   ]
  },
  {
   "cell_type": "code",
   "execution_count": 9,
   "metadata": {},
   "outputs": [],
   "source": [
    "library(keras)\n",
    "\n",
    "batch_size=256\n",
    "\n",
    "training_image_gen <- image_data_generator(\n",
    "  rotation_range = 5,\n",
    "  width_shift_range = 0.1,\n",
    "  height_shift_range = 0.1,\n",
    "  horizontal_flip = FALSE,\n",
    "  rescale = 1./255.\n",
    ")\n",
    "\n",
    "validation_image_gen <- image_data_generator(\n",
    "  rescale = 1./255.\n",
    ")\n",
    "\n",
    "IMG_SIZE <- 32\n",
    "\n",
    "training_image_flow <- flow_images_from_directory(\n",
    "  directory = \"./traffic_signs_train/\", \n",
    "  generator = training_image_gen, \n",
    "  class_mode = \"categorical\",\n",
    "  batch_size = batch_size,\n",
    "  target_size = c(IMG_SIZE, IMG_SIZE), \n",
    ")\n",
    "\n",
    "validation_image_flow <- flow_images_from_directory(\n",
    "  directory = \"./traffic_signs_test/\", \n",
    "  generator = validation_image_gen, \n",
    "  class_mode = \"categorical\",\n",
    "  batch_size = batch_size,\n",
    "  target_size = c(IMG_SIZE, IMG_SIZE), \n",
    "  shuffle = FALSE\n",
    ")"
   ]
  },
  {
   "cell_type": "code",
   "execution_count": 10,
   "metadata": {},
   "outputs": [
    {
     "data": {
      "text/plain": [
       "Model\n",
       "________________________________________________________________________________\n",
       "Layer (type)                        Output Shape                    Param #     \n",
       "================================================================================\n",
       "conv2d (Conv2D)                     (None, 32, 32, 32)              2432        \n",
       "________________________________________________________________________________\n",
       "conv2d_1 (Conv2D)                   (None, 28, 28, 64)              51264       \n",
       "________________________________________________________________________________\n",
       "flatten (Flatten)                   (None, 50176)                   0           \n",
       "________________________________________________________________________________\n",
       "dense (Dense)                       (None, 768)                     38535936    \n",
       "________________________________________________________________________________\n",
       "dropout (Dropout)                   (None, 768)                     0           \n",
       "________________________________________________________________________________\n",
       "dense_1 (Dense)                     (None, 1)                       769         \n",
       "================================================================================\n",
       "Total params: 38,590,401\n",
       "Trainable params: 38,590,401\n",
       "Non-trainable params: 0\n",
       "________________________________________________________________________________\n",
       "\n"
      ]
     },
     "metadata": {},
     "output_type": "display_data"
    }
   ],
   "source": [
    "NUM_CLASSES <- length(unique(c(cl_train, cl_test)))\n",
    "\n",
    "model <- keras_model_sequential() %>% \n",
    "  layer_conv_2d(filters=32, kernel_size=c(5, 5), padding='same',\n",
    "                     input_shape=c(IMG_SIZE, IMG_SIZE, 3),\n",
    "                     activation='relu') %>%\n",
    "  layer_conv_2d(filters=64, kernel_size=c(5, 5), activation='relu') %>%\n",
    "  layer_flatten() %>%\n",
    "  layer_dense(768, activation=\"relu\") %>% \n",
    "  layer_dropout(rate=0.4) %>% \n",
    "  layer_dense(units=NUM_CLASSES, activation = \"sigmoid\")\n",
    "\n",
    "model"
   ]
  },
  {
   "cell_type": "code",
   "execution_count": null,
   "metadata": {},
   "outputs": [],
   "source": [
    "model %>% \n",
    "  compile(loss=\"categorical_crossentropy\", optimizer=\"adam\", metrics=\"accuracy\")\n",
    "\n",
    "history <- model %>% fit_generator(\n",
    "              generator = training_image_flow, \n",
    "              epochs = 10, \n",
    "              steps_per_epoch = training_image_flow$n/training_image_flow$batch_size,\n",
    "              validation_data = validation_image_flow,\n",
    "              validation_steps = validation_image_flow$n/validation_image_flow$batch_size,\n",
    "              class_weight = weights\n",
    ")"
   ]
  },
  {
   "cell_type": "code",
   "execution_count": null,
   "metadata": {},
   "outputs": [],
   "source": [
    "history"
   ]
  },
  {
   "cell_type": "code",
   "execution_count": null,
   "metadata": {},
   "outputs": [],
   "source": [
    "# Plotting training and test dynamics\n",
    "plot(history, method='auto', metrics=c('loss', 'categorical_accuracy'))"
   ]
  }
 ],
 "metadata": {
  "kernelspec": {
   "display_name": "R",
   "language": "R",
   "name": "ir"
  },
  "language_info": {
   "codemirror_mode": "r",
   "file_extension": ".r",
   "mimetype": "text/x-r-source",
   "name": "R",
   "pygments_lexer": "r",
   "version": "4.2.0"
  }
 },
 "nbformat": 4,
 "nbformat_minor": 2
}
